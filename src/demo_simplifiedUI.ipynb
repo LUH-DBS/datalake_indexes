{
 "cells": [
  {
   "cell_type": "markdown",
   "id": "432c60c8",
   "metadata": {
    "pycharm": {
     "name": "#%% md\n"
    }
   },
   "source": [
    "# Demonstrating Multi-attribute and Order-indexes for Data Discovery"
   ]
  },
  {
   "cell_type": "code",
   "execution_count": 1,
   "id": "a24f8035",
   "metadata": {},
   "outputs": [
    {
     "name": "stdout",
     "output_type": "stream",
     "text": [
      "                                         movie_title duration  \\\n",
      "0                                            Avatar       178   \n",
      "1          Pirates of the Caribbean: At World's End       169   \n",
      "2                                           Spectre       148   \n",
      "3                             The Dark Knight Rises       164   \n",
      "4  Star Wars: Episode VII - The Force Awakens    ...      NaN   \n",
      "\n",
      "       director_name                           genres imdb_score  \n",
      "0      James Cameron  Action|Adventure|Fantasy|Sci-Fi        7.9  \n",
      "1     Gore Verbinski         Action|Adventure|Fantasy        7.1  \n",
      "2         Sam Mendes        Action|Adventure|Thriller        6.8  \n",
      "3  Christopher Nolan                  Action|Thriller        8.5  \n",
      "4        Doug Walker                      Documentary        7.1  \n"
     ]
    }
   ],
   "source": [
    "from datalake_indexes_demo import DatalakeIndexesDemo\n",
    "\n",
    "demo = DatalakeIndexesDemo(\"/Users/jannisbecktepe/Developer/db_config.json\",\n",
    "                           \"cafe_gittables2\")"
   ]
  },
  {
   "cell_type": "markdown",
   "id": "adef9775",
   "metadata": {},
   "source": [
    "## 1) Input Preparation\n",
    "### Read input dataset"
   ]
  },
  {
   "cell_type": "code",
   "execution_count": 12,
   "id": "5f63f92c",
   "metadata": {},
   "outputs": [
    {
     "name": "stdout",
     "output_type": "stream",
     "text": [
      "                                         movie_title duration  \\\n",
      "0                                            Avatar       178   \n",
      "1          Pirates of the Caribbean: At World's End       169   \n",
      "2                                           Spectre       148   \n",
      "3                             The Dark Knight Rises       164   \n",
      "4  Star Wars: Episode VII - The Force Awakens    ...      NaN   \n",
      "\n",
      "       director_name                           genres imdb_score  \n",
      "0      James Cameron  Action|Adventure|Fantasy|Sci-Fi        7.9  \n",
      "1     Gore Verbinski         Action|Adventure|Fantasy        7.1  \n",
      "2         Sam Mendes        Action|Adventure|Thriller        6.8  \n",
      "3  Christopher Nolan                  Action|Thriller        8.5  \n",
      "4        Doug Walker                      Documentary        7.1  \n"
     ]
    }
   ],
   "source": [
    "demo.read_input(\"../datasets/movie.csv\")"
   ]
  },
  {
   "cell_type": "markdown",
   "id": "b50a959b",
   "metadata": {},
   "source": [
    "### Select query columns"
   ]
  },
  {
   "cell_type": "code",
   "execution_count": 13,
   "id": "ee668ca0",
   "metadata": {},
   "outputs": [
    {
     "name": "stdout",
     "output_type": "stream",
     "text": [
      "['movie_title', 'director_name']\n",
      "                                         movie_title duration  \\\n",
      "0                                            Avatar       178   \n",
      "1          Pirates of the Caribbean: At World's End       169   \n",
      "2                                           Spectre       148   \n",
      "3                             The Dark Knight Rises       164   \n",
      "4  Star Wars: Episode VII - The Force Awakens    ...      NaN   \n",
      "\n",
      "       director_name                           genres imdb_score  \n",
      "0      James Cameron  Action|Adventure|Fantasy|Sci-Fi        7.9  \n",
      "1     Gore Verbinski         Action|Adventure|Fantasy        7.1  \n",
      "2         Sam Mendes        Action|Adventure|Thriller        6.8  \n",
      "3  Christopher Nolan                  Action|Thriller        8.5  \n",
      "4        Doug Walker                      Documentary        7.1  \n"
     ]
    }
   ],
   "source": [
    "demo.set_query_columns([\"movie_title\", \"director_name\"])"
   ]
  },
  {
   "cell_type": "markdown",
   "id": "b018cf18",
   "metadata": {},
   "source": [
    "### Select target column"
   ]
  },
  {
   "cell_type": "code",
   "execution_count": 3,
   "id": "e4ec238b",
   "metadata": {
    "scrolled": true
   },
   "outputs": [
    {
     "name": "stdout",
     "output_type": "stream",
     "text": [
      "imdb_score\n",
      "                                         movie_title duration  \\\n",
      "0                                            Avatar       178   \n",
      "1          Pirates of the Caribbean: At World's End       169   \n",
      "2                                           Spectre       148   \n",
      "3                             The Dark Knight Rises       164   \n",
      "4  Star Wars: Episode VII - The Force Awakens    ...      NaN   \n",
      "\n",
      "       director_name                           genres imdb_score  \n",
      "0      James Cameron  Action|Adventure|Fantasy|Sci-Fi        7.9  \n",
      "1     Gore Verbinski         Action|Adventure|Fantasy        7.1  \n",
      "2         Sam Mendes        Action|Adventure|Thriller        6.8  \n",
      "3  Christopher Nolan                  Action|Thriller        8.5  \n",
      "4        Doug Walker                      Documentary        7.1  \n"
     ]
    }
   ],
   "source": [
    "demo.set_target_column(\"imdb_score\")"
   ]
  },
  {
   "cell_type": "markdown",
   "id": "3a282679",
   "metadata": {
    "pycharm": {
     "name": "#%% md\n"
    }
   },
   "source": [
    "## 2) Joinability Discovery\n",
    "\n",
    "### Find top-10 joinable tables using Super Key Index and MATE Algorithm"
   ]
  },
  {
   "cell_type": "code",
   "execution_count": 4,
   "id": "ecfe524b",
   "metadata": {},
   "outputs": [
    {
     "name": "stderr",
     "output_type": "stream",
     "text": [
      "100%|█████████████████████████████████████████████████████████████████████████████████████████████████████████████████████████████████████████████| 500/500 [00:01<00:00, 419.17it/s]\n"
     ]
    },
    {
     "name": "stdout",
     "output_type": "stream",
     "text": [
      "MATE runtime:     1.10s\n",
      "\n",
      "Hash-based filtered rows: 11765\n",
      "Hash-based approved rows: 576\n",
      "Matching rows:            514\n",
      "FP rows:                  62\n"
     ]
    }
   ],
   "source": [
    "demo.joinability_discovery()"
   ]
  },
  {
   "cell_type": "markdown",
   "id": "0804f211",
   "metadata": {},
   "source": [
    "### Plot joinability score for joinable tables"
   ]
  },
  {
   "cell_type": "code",
   "execution_count": 5,
   "id": "a4759690",
   "metadata": {},
   "outputs": [
    {
     "data": {
      "image/png": "[encoded data removed]",
      "text/plain": [
       "<Figure size 720x288 with 1 Axes>"
      ]
     },
     "metadata": {
      "needs_background": "light"
     },
     "output_type": "display_data"
    }
   ],
   "source": [
    "demo.plot_joinability_scores()"
   ]
  },
  {
   "cell_type": "markdown",
   "id": "6c9b8eb1",
   "metadata": {},
   "source": [
    "### Display joinable table with rank #1"
   ]
  },
  {
   "cell_type": "code",
   "execution_count": 6,
   "id": "e2048550",
   "metadata": {},
   "outputs": [
    {
     "name": "stdout",
     "output_type": "stream",
     "text": [
      "Score: 96 \n",
      "Table ID: 230999 \n",
      "Joinable columns: 11_1 \n",
      "#rows: 149 \n",
      "#columns: 28 \n",
      "   color      director_name num_critic_for_reviews duration  \\\n",
      "0  color      james cameron                  723 0    178 0   \n",
      "1  color     gore verbinski                  302 0    169 0   \n",
      "2  color         sam mendes                  602 0    148 0   \n",
      "3  color  christopher nolan                  813 0    164 0   \n",
      "4   none        doug walker                    nan      nan   \n",
      "\n",
      "  director_facebook_likes actor_3_facebook_likes      actor_2_name  \\\n",
      "0                       0                  855 0  joel david moore   \n",
      "1                     563                 1000 0     orlando bloom   \n",
      "2                       0                  161 0      rory kinnear   \n",
      "3                   22000                23000 0    christian bale   \n",
      "4                     131                    nan        rob walker   \n",
      "\n",
      "  actor_1_facebook_likes        gross                           genres  ...  \\\n",
      "0                   1000  760505847 0  action adventure fantasy sci fi  ...   \n",
      "1                  40000  309404152 0         action adventure fantasy  ...   \n",
      "2                  11000  200074175 0        action adventure thriller  ...   \n",
      "3                  27000  448130642 0                  action thriller  ...   \n",
      "4                    131          nan                      documentary  ...   \n",
      "\n",
      "  num_user_for_reviews language country content_rating       budget  \\\n",
      "0               3054 0  english     usa          pg 13  237000000 0   \n",
      "1               1238 0  english     usa          pg 13  300000000 0   \n",
      "2                994 0  english      uk          pg 13  245000000 0   \n",
      "3               2701 0  english     usa          pg 13  250000000 0   \n",
      "4                  nan     none    none           none          nan   \n",
      "\n",
      "  title_year actor_2_facebook_likes imdb_score aspect_ratio  \\\n",
      "0     2009 0                    936        7 9         1 78   \n",
      "1     2007 0                   5000        7 1         2 35   \n",
      "2     2015 0                    393        6 8         2 35   \n",
      "3     2012 0                  23000        8 5         2 35   \n",
      "4        nan                     12        7 1          nan   \n",
      "\n",
      "  movie_facebook_likes  \n",
      "0                33000  \n",
      "1                    0  \n",
      "2                85000  \n",
      "3               164000  \n",
      "4                    0  \n",
      "\n",
      "[5 rows x 28 columns]\n"
     ]
    }
   ],
   "source": [
    "demo.display_joinable_table(1)"
   ]
  },
  {
   "cell_type": "markdown",
   "id": "a0f3da1f",
   "metadata": {
    "pycharm": {
     "name": "#%% md\n"
    }
   },
   "source": [
    "# 3) Duplicate Detection using XASH\n",
    "## Discover duplicate tables and their relationship"
   ]
  },
  {
   "cell_type": "code",
   "execution_count": 7,
   "id": "0b7a5e3d",
   "metadata": {},
   "outputs": [
    {
     "data": {
      "text/html": [
       "\n",
       "        <iframe\n",
       "            width=\"100%\"\n",
       "            height=\"1000px\"\n",
       "            src=\"nb.html\"\n",
       "            frameborder=\"0\"\n",
       "            allowfullscreen\n",
       "            \n",
       "        ></iframe>\n",
       "        "
      ],
      "text/plain": [
       "<IPython.lib.display.IFrame at 0x7fe4a078dd00>"
      ]
     },
     "execution_count": 7,
     "metadata": {},
     "output_type": "execute_result"
    }
   ],
   "source": [
    "demo.duplicate_detection().show(\"nb.html\")"
   ]
  },
  {
   "cell_type": "markdown",
   "id": "1c603132",
   "metadata": {},
   "source": [
    "## Analyze XASH alternations"
   ]
  },
  {
   "cell_type": "code",
   "execution_count": 8,
   "id": "6c4751bb",
   "metadata": {},
   "outputs": [],
   "source": [
    "demo.analyze_XASH_alternations()"
   ]
  },
  {
   "cell_type": "markdown",
   "id": "b242cd4a",
   "metadata": {
    "pycharm": {
     "name": "#%% md\n"
    }
   },
   "source": [
    "# 4) Correlation Calculation\n",
    "## Obtain top-10 correlating features using Order Index and COCOA Algorithm"
   ]
  },
  {
   "cell_type": "code",
   "execution_count": 9,
   "id": "3d243173",
   "metadata": {},
   "outputs": [
    {
     "name": "stderr",
     "output_type": "stream",
     "text": [
      "100%|███████████████████████████████████████████████████████████████████████████████████████████████████████████████████████████████████████████████| 10/10 [00:00<00:00, 293.85it/s]"
     ]
    },
    {
     "name": "stdout",
     "output_type": "stream",
     "text": [
      "Total runtime: 0.15s\n",
      "Preparation runtime: 0.11s\n",
      "Correlation calculation runtime: 0.04s\n",
      "\n",
      "Evaluated features: 238\n",
      "Max. correlation coefficient: 0.6349\n",
      "Min. correlation coefficient: 0.0000\n",
      "{'230999_num_voted_users': 0.6348958306242422, '278123_num_voted_users': 0.6348958306242422, '21812_num_voted_users': 0.6348958306242422}\n",
      "{'230999_num_voted_users': array([1.        , 0.65772433]), '278123_num_voted_users': array([1.        , 0.65825108]), '21812_num_voted_users': array([1.        , 0.65936236])}\n",
      "                                           movie_title duration  \\\n",
      "0                                              Avatar       178   \n",
      "1            Pirates of the Caribbean: At World's End       169   \n",
      "2                                             Spectre       148   \n",
      "3                               The Dark Knight Rises       164   \n",
      "4    Star Wars: Episode VII - The Force Awakens    ...      NaN   \n",
      "..                                                 ...      ...   \n",
      "102                           Guardians of the Galaxy       121   \n",
      "103                                      Interstellar       169   \n",
      "104                                         Inception       148   \n",
      "105                               Godzilla Resurgence       120   \n",
      "106                 The Hobbit: An Unexpected Journey       182   \n",
      "\n",
      "         director_name                                genres imdb_score  \\\n",
      "0        James Cameron       Action|Adventure|Fantasy|Sci-Fi        7.9   \n",
      "1       Gore Verbinski              Action|Adventure|Fantasy        7.1   \n",
      "2           Sam Mendes             Action|Adventure|Thriller        6.8   \n",
      "3    Christopher Nolan                       Action|Thriller        8.5   \n",
      "4          Doug Walker                           Documentary        7.1   \n",
      "..                 ...                                   ...        ...   \n",
      "102         James Gunn               Action|Adventure|Sci-Fi        8.1   \n",
      "103  Christopher Nolan                Adventure|Drama|Sci-Fi        8.6   \n",
      "104  Christopher Nolan      Action|Adventure|Sci-Fi|Thriller        8.8   \n",
      "105       Hideaki Anno  Action|Adventure|Drama|Horror|Sci-Fi        8.2   \n",
      "106      Peter Jackson                     Adventure|Fantasy        7.9   \n",
      "\n",
      "    230999_num_voted_users 278123_num_voted_users 21812_num_voted_users  \n",
      "0                   886204                 886204                886204  \n",
      "1                   471220                 471220                471220  \n",
      "2                   275868                 275868                275868  \n",
      "3                  1144337                1144337               1144337  \n",
      "4                        8                      8                     8  \n",
      "..                     ...                    ...                   ...  \n",
      "102                 682155                 682155                682155  \n",
      "103                 928227                 928227                928227  \n",
      "104                1468200                1468200               1468200  \n",
      "105                    374                    374                   374  \n",
      "106                 637246                 637246                637246  \n",
      "\n",
      "[107 rows x 8 columns]\n"
     ]
    },
    {
     "name": "stderr",
     "output_type": "stream",
     "text": [
      "\n"
     ]
    }
   ],
   "source": [
    "# 4) Correlation Calculation\n",
    "## Obtain top-10 correlating features using Order Index and COCOA Algorithmdemo.correlation_calculation()"
   ]
  },
  {
   "cell_type": "markdown",
   "id": "056eceac",
   "metadata": {
    "pycharm": {
     "name": "#%% md\n"
    }
   },
   "source": [
    "## Inspect correlation between input and top-correlating features"
   ]
  },
  {
   "cell_type": "code",
   "execution_count": 10,
   "id": "df5b92e6",
   "metadata": {},
   "outputs": [
    {
     "data": {
      "image/png": "[encoded data removed]",
      "text/plain": [
       "<Figure size 720x432 with 2 Axes>"
      ]
     },
     "metadata": {
      "needs_background": "light"
     },
     "output_type": "display_data"
    }
   ],
   "source": [
    "demo.plot_correlation()"
   ]
  }
 ],
 "metadata": {
  "kernelspec": {
   "display_name": "Python 3 (ipykernel)",
   "language": "python",
   "name": "python3"
  },
  "language_info": {
   "codemirror_mode": {
    "name": "ipython",
    "version": 3
   },
   "file_extension": ".py",
   "mimetype": "text/x-python",
   "name": "python",
   "nbconvert_exporter": "python",
   "pygments_lexer": "ipython3",
   "version": "3.9.12"
  }
 },
 "nbformat": 4,
 "nbformat_minor": 5
}
