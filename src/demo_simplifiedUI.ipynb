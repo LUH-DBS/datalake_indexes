{
 "cells": [
  {
   "cell_type": "markdown",
   "id": "432c60c8",
   "metadata": {
    "pycharm": {
     "name": "#%% md\n"
    }
   },
   "source": [
    "# Demonstrating Multi-attribute and Order-indexes for Data Discovery"
   ]
  },
  {
   "cell_type": "code",
   "execution_count": 1,
   "id": "a24f8035",
   "metadata": {
    "pycharm": {
     "name": "#%%\n"
    }
   },
   "outputs": [],
   "source": [
    "from datalake_indexes_demo import DatalakeIndexesDemo\n",
    "import pandas as pd\n",
    "\n",
    "demo = DatalakeIndexesDemo(\"/Users/jannisbecktepe/Developer/db_config.json\",\n",
    "                           \"cafe_gittables2\")"
   ]
  },
  {
   "cell_type": "markdown",
   "id": "adef9775",
   "metadata": {
    "pycharm": {
     "name": "#%% md\n"
    }
   },
   "source": [
    "## 1) Input Preparation\n",
    "### Read input dataset"
   ]
  },
  {
   "cell_type": "code",
   "execution_count": 2,
   "id": "5f63f92c",
   "metadata": {
    "pycharm": {
     "name": "#%%\n"
    }
   },
   "outputs": [
    {
     "name": "stdout",
     "output_type": "stream",
     "text": [
      "Shape: (1000, 5)\n"
     ]
    },
    {
     "data": {
      "text/html": [
       "<table border=\"1\" class=\"dataframe\">\n",
       "  <thead>\n",
       "    <tr style=\"text-align: right;\">\n",
       "      <th></th>\n",
       "      <th>movie_title</th>\n",
       "      <th>duration</th>\n",
       "      <th>director_name</th>\n",
       "      <th>genres</th>\n",
       "      <th>imdb_score</th>\n",
       "    </tr>\n",
       "  </thead>\n",
       "  <tbody>\n",
       "    <tr>\n",
       "      <th>0</th>\n",
       "      <td>Avatar</td>\n",
       "      <td>178.0</td>\n",
       "      <td>James Cameron</td>\n",
       "      <td>Action|Adventure|Fantasy|Sci-Fi</td>\n",
       "      <td>7.9</td>\n",
       "    </tr>\n",
       "    <tr>\n",
       "      <th>1</th>\n",
       "      <td>Pirates of the Caribbean: At World's End</td>\n",
       "      <td>169.0</td>\n",
       "      <td>Gore Verbinski</td>\n",
       "      <td>Action|Adventure|Fantasy</td>\n",
       "      <td>7.1</td>\n",
       "    </tr>\n",
       "    <tr>\n",
       "      <th>2</th>\n",
       "      <td>Spectre</td>\n",
       "      <td>148.0</td>\n",
       "      <td>Sam Mendes</td>\n",
       "      <td>Action|Adventure|Thriller</td>\n",
       "      <td>6.8</td>\n",
       "    </tr>\n",
       "    <tr>\n",
       "      <th>3</th>\n",
       "      <td>The Dark Knight Rises</td>\n",
       "      <td>164.0</td>\n",
       "      <td>Christopher Nolan</td>\n",
       "      <td>Action|Thriller</td>\n",
       "      <td>8.5</td>\n",
       "    </tr>\n",
       "    <tr>\n",
       "      <th>4</th>\n",
       "      <td>Star Wars: Episode VII - The Force Awakens</td>\n",
       "      <td>NaN</td>\n",
       "      <td>Doug Walker</td>\n",
       "      <td>Documentary</td>\n",
       "      <td>7.1</td>\n",
       "    </tr>\n",
       "  </tbody>\n",
       "</table>"
      ],
      "text/plain": [
       "<IPython.core.display.HTML object>"
      ]
     },
     "metadata": {},
     "output_type": "display_data"
    }
   ],
   "source": [
    "demo.read_input(\"../datasets/movie.csv\", rows=1000)"
   ]
  },
  {
   "cell_type": "markdown",
   "id": "b50a959b",
   "metadata": {
    "pycharm": {
     "name": "#%% md\n"
    }
   },
   "source": [
    "### Select query columns"
   ]
  },
  {
   "cell_type": "code",
   "execution_count": 3,
   "id": "ee668ca0",
   "metadata": {
    "pycharm": {
     "name": "#%%\n"
    }
   },
   "outputs": [
    {
     "data": {
      "text/html": [
       "<style type=\"text/css\">\n",
       "#T_6e975_row0_col0, #T_6e975_row0_col2, #T_6e975_row1_col0, #T_6e975_row1_col2, #T_6e975_row2_col0, #T_6e975_row2_col2, #T_6e975_row3_col0, #T_6e975_row3_col2, #T_6e975_row4_col0, #T_6e975_row4_col2 {\n",
       "  background-color: lightgreen;\n",
       "}\n",
       "</style>\n",
       "<table id=\"T_6e975\">\n",
       "  <thead>\n",
       "    <tr>\n",
       "      <th class=\"blank level0\" >&nbsp;</th>\n",
       "      <th id=\"T_6e975_level0_col0\" class=\"col_heading level0 col0\" >movie_title</th>\n",
       "      <th id=\"T_6e975_level0_col1\" class=\"col_heading level0 col1\" >duration</th>\n",
       "      <th id=\"T_6e975_level0_col2\" class=\"col_heading level0 col2\" >director_name</th>\n",
       "      <th id=\"T_6e975_level0_col3\" class=\"col_heading level0 col3\" >genres</th>\n",
       "      <th id=\"T_6e975_level0_col4\" class=\"col_heading level0 col4\" >imdb_score</th>\n",
       "    </tr>\n",
       "  </thead>\n",
       "  <tbody>\n",
       "    <tr>\n",
       "      <th id=\"T_6e975_level0_row0\" class=\"row_heading level0 row0\" >0</th>\n",
       "      <td id=\"T_6e975_row0_col0\" class=\"data row0 col0\" >Avatar </td>\n",
       "      <td id=\"T_6e975_row0_col1\" class=\"data row0 col1\" >178.0</td>\n",
       "      <td id=\"T_6e975_row0_col2\" class=\"data row0 col2\" >James Cameron</td>\n",
       "      <td id=\"T_6e975_row0_col3\" class=\"data row0 col3\" >Action|Adventure|Fantasy|Sci-Fi</td>\n",
       "      <td id=\"T_6e975_row0_col4\" class=\"data row0 col4\" >7.9</td>\n",
       "    </tr>\n",
       "    <tr>\n",
       "      <th id=\"T_6e975_level0_row1\" class=\"row_heading level0 row1\" >1</th>\n",
       "      <td id=\"T_6e975_row1_col0\" class=\"data row1 col0\" >Pirates of the Caribbean: At World's End </td>\n",
       "      <td id=\"T_6e975_row1_col1\" class=\"data row1 col1\" >169.0</td>\n",
       "      <td id=\"T_6e975_row1_col2\" class=\"data row1 col2\" >Gore Verbinski</td>\n",
       "      <td id=\"T_6e975_row1_col3\" class=\"data row1 col3\" >Action|Adventure|Fantasy</td>\n",
       "      <td id=\"T_6e975_row1_col4\" class=\"data row1 col4\" >7.1</td>\n",
       "    </tr>\n",
       "    <tr>\n",
       "      <th id=\"T_6e975_level0_row2\" class=\"row_heading level0 row2\" >2</th>\n",
       "      <td id=\"T_6e975_row2_col0\" class=\"data row2 col0\" >Spectre </td>\n",
       "      <td id=\"T_6e975_row2_col1\" class=\"data row2 col1\" >148.0</td>\n",
       "      <td id=\"T_6e975_row2_col2\" class=\"data row2 col2\" >Sam Mendes</td>\n",
       "      <td id=\"T_6e975_row2_col3\" class=\"data row2 col3\" >Action|Adventure|Thriller</td>\n",
       "      <td id=\"T_6e975_row2_col4\" class=\"data row2 col4\" >6.8</td>\n",
       "    </tr>\n",
       "    <tr>\n",
       "      <th id=\"T_6e975_level0_row3\" class=\"row_heading level0 row3\" >3</th>\n",
       "      <td id=\"T_6e975_row3_col0\" class=\"data row3 col0\" >The Dark Knight Rises </td>\n",
       "      <td id=\"T_6e975_row3_col1\" class=\"data row3 col1\" >164.0</td>\n",
       "      <td id=\"T_6e975_row3_col2\" class=\"data row3 col2\" >Christopher Nolan</td>\n",
       "      <td id=\"T_6e975_row3_col3\" class=\"data row3 col3\" >Action|Thriller</td>\n",
       "      <td id=\"T_6e975_row3_col4\" class=\"data row3 col4\" >8.5</td>\n",
       "    </tr>\n",
       "    <tr>\n",
       "      <th id=\"T_6e975_level0_row4\" class=\"row_heading level0 row4\" >4</th>\n",
       "      <td id=\"T_6e975_row4_col0\" class=\"data row4 col0\" >Star Wars: Episode VII - The Force Awakens             </td>\n",
       "      <td id=\"T_6e975_row4_col1\" class=\"data row4 col1\" >nan</td>\n",
       "      <td id=\"T_6e975_row4_col2\" class=\"data row4 col2\" >Doug Walker</td>\n",
       "      <td id=\"T_6e975_row4_col3\" class=\"data row4 col3\" >Documentary</td>\n",
       "      <td id=\"T_6e975_row4_col4\" class=\"data row4 col4\" >7.1</td>\n",
       "    </tr>\n",
       "  </tbody>\n",
       "</table>\n"
      ],
      "text/plain": [
       "<IPython.core.display.HTML object>"
      ]
     },
     "metadata": {},
     "output_type": "display_data"
    }
   ],
   "source": [
    "demo.set_query_columns([\"movie_title\", \"director_name\"])"
   ]
  },
  {
   "cell_type": "markdown",
   "id": "b018cf18",
   "metadata": {
    "pycharm": {
     "name": "#%% md\n"
    }
   },
   "source": [
    "### Select target column"
   ]
  },
  {
   "cell_type": "code",
   "execution_count": 4,
   "id": "e4ec238b",
   "metadata": {
    "pycharm": {
     "name": "#%%\n"
    },
    "scrolled": true
   },
   "outputs": [
    {
     "data": {
      "text/html": [
       "<style type=\"text/css\">\n",
       "#T_0a76e_row0_col0, #T_0a76e_row0_col2, #T_0a76e_row1_col0, #T_0a76e_row1_col2, #T_0a76e_row2_col0, #T_0a76e_row2_col2, #T_0a76e_row3_col0, #T_0a76e_row3_col2, #T_0a76e_row4_col0, #T_0a76e_row4_col2 {\n",
       "  background-color: lightgreen;\n",
       "}\n",
       "#T_0a76e_row0_col4, #T_0a76e_row1_col4, #T_0a76e_row2_col4, #T_0a76e_row3_col4, #T_0a76e_row4_col4 {\n",
       "  background-color: orange;\n",
       "}\n",
       "</style>\n",
       "<table id=\"T_0a76e\">\n",
       "  <thead>\n",
       "    <tr>\n",
       "      <th class=\"blank level0\" >&nbsp;</th>\n",
       "      <th id=\"T_0a76e_level0_col0\" class=\"col_heading level0 col0\" >movie_title</th>\n",
       "      <th id=\"T_0a76e_level0_col1\" class=\"col_heading level0 col1\" >duration</th>\n",
       "      <th id=\"T_0a76e_level0_col2\" class=\"col_heading level0 col2\" >director_name</th>\n",
       "      <th id=\"T_0a76e_level0_col3\" class=\"col_heading level0 col3\" >genres</th>\n",
       "      <th id=\"T_0a76e_level0_col4\" class=\"col_heading level0 col4\" >imdb_score</th>\n",
       "    </tr>\n",
       "  </thead>\n",
       "  <tbody>\n",
       "    <tr>\n",
       "      <th id=\"T_0a76e_level0_row0\" class=\"row_heading level0 row0\" >0</th>\n",
       "      <td id=\"T_0a76e_row0_col0\" class=\"data row0 col0\" >Avatar </td>\n",
       "      <td id=\"T_0a76e_row0_col1\" class=\"data row0 col1\" >178.0</td>\n",
       "      <td id=\"T_0a76e_row0_col2\" class=\"data row0 col2\" >James Cameron</td>\n",
       "      <td id=\"T_0a76e_row0_col3\" class=\"data row0 col3\" >Action|Adventure|Fantasy|Sci-Fi</td>\n",
       "      <td id=\"T_0a76e_row0_col4\" class=\"data row0 col4\" >7.9</td>\n",
       "    </tr>\n",
       "    <tr>\n",
       "      <th id=\"T_0a76e_level0_row1\" class=\"row_heading level0 row1\" >1</th>\n",
       "      <td id=\"T_0a76e_row1_col0\" class=\"data row1 col0\" >Pirates of the Caribbean: At World's End </td>\n",
       "      <td id=\"T_0a76e_row1_col1\" class=\"data row1 col1\" >169.0</td>\n",
       "      <td id=\"T_0a76e_row1_col2\" class=\"data row1 col2\" >Gore Verbinski</td>\n",
       "      <td id=\"T_0a76e_row1_col3\" class=\"data row1 col3\" >Action|Adventure|Fantasy</td>\n",
       "      <td id=\"T_0a76e_row1_col4\" class=\"data row1 col4\" >7.1</td>\n",
       "    </tr>\n",
       "    <tr>\n",
       "      <th id=\"T_0a76e_level0_row2\" class=\"row_heading level0 row2\" >2</th>\n",
       "      <td id=\"T_0a76e_row2_col0\" class=\"data row2 col0\" >Spectre </td>\n",
       "      <td id=\"T_0a76e_row2_col1\" class=\"data row2 col1\" >148.0</td>\n",
       "      <td id=\"T_0a76e_row2_col2\" class=\"data row2 col2\" >Sam Mendes</td>\n",
       "      <td id=\"T_0a76e_row2_col3\" class=\"data row2 col3\" >Action|Adventure|Thriller</td>\n",
       "      <td id=\"T_0a76e_row2_col4\" class=\"data row2 col4\" >6.8</td>\n",
       "    </tr>\n",
       "    <tr>\n",
       "      <th id=\"T_0a76e_level0_row3\" class=\"row_heading level0 row3\" >3</th>\n",
       "      <td id=\"T_0a76e_row3_col0\" class=\"data row3 col0\" >The Dark Knight Rises </td>\n",
       "      <td id=\"T_0a76e_row3_col1\" class=\"data row3 col1\" >164.0</td>\n",
       "      <td id=\"T_0a76e_row3_col2\" class=\"data row3 col2\" >Christopher Nolan</td>\n",
       "      <td id=\"T_0a76e_row3_col3\" class=\"data row3 col3\" >Action|Thriller</td>\n",
       "      <td id=\"T_0a76e_row3_col4\" class=\"data row3 col4\" >8.5</td>\n",
       "    </tr>\n",
       "    <tr>\n",
       "      <th id=\"T_0a76e_level0_row4\" class=\"row_heading level0 row4\" >4</th>\n",
       "      <td id=\"T_0a76e_row4_col0\" class=\"data row4 col0\" >Star Wars: Episode VII - The Force Awakens             </td>\n",
       "      <td id=\"T_0a76e_row4_col1\" class=\"data row4 col1\" >nan</td>\n",
       "      <td id=\"T_0a76e_row4_col2\" class=\"data row4 col2\" >Doug Walker</td>\n",
       "      <td id=\"T_0a76e_row4_col3\" class=\"data row4 col3\" >Documentary</td>\n",
       "      <td id=\"T_0a76e_row4_col4\" class=\"data row4 col4\" >7.1</td>\n",
       "    </tr>\n",
       "  </tbody>\n",
       "</table>\n"
      ],
      "text/plain": [
       "<IPython.core.display.HTML object>"
      ]
     },
     "metadata": {},
     "output_type": "display_data"
    }
   ],
   "source": [
    "demo.set_target_column(\"imdb_score\")"
   ]
  },
  {
   "cell_type": "markdown",
   "id": "3a282679",
   "metadata": {
    "pycharm": {
     "name": "#%% md\n"
    }
   },
   "source": [
    "## 2) Joinability Discovery\n",
    "\n",
    "### Find top-10 joinable tables using Super Key Index and MATE Algorithm"
   ]
  },
  {
   "cell_type": "code",
   "execution_count": null,
   "id": "ecfe524b",
   "metadata": {
    "pycharm": {
     "name": "#%%\n"
    }
   },
   "outputs": [
    {
     "name": "stderr",
     "output_type": "stream",
     "text": [
      " 43%|█████████████████▎                      | 217/500 [00:00<00:00, 334.49it/s]"
     ]
    }
   ],
   "source": [
    "demo.joinability_discovery()"
   ]
  },
  {
   "cell_type": "markdown",
   "id": "0804f211",
   "metadata": {
    "pycharm": {
     "name": "#%% md\n"
    }
   },
   "source": [
    "### Plot joinability score for joinable tables"
   ]
  },
  {
   "cell_type": "code",
   "execution_count": 6,
   "id": "a4759690",
   "metadata": {
    "pycharm": {
     "name": "#%%\n"
    }
   },
   "outputs": [
    {
     "data": {
      "image/png": "[encoded data removed]",
      "text/plain": [
       "<Figure size 720x288 with 1 Axes>"
      ]
     },
     "metadata": {
      "needs_background": "light"
     },
     "output_type": "display_data"
    }
   ],
   "source": [
    "demo.plot_joinability_scores()"
   ]
  },
  {
   "cell_type": "markdown",
   "id": "6c9b8eb1",
   "metadata": {
    "pycharm": {
     "name": "#%% md\n"
    }
   },
   "source": [
    "### Display joinable table with rank #1"
   ]
  },
  {
   "cell_type": "code",
   "execution_count": 7,
   "id": "e2048550",
   "metadata": {
    "pycharm": {
     "name": "#%%\n"
    }
   },
   "outputs": [
    {
     "name": "stdout",
     "output_type": "stream",
     "text": [
      "Score: 144 \n",
      "Table ID: 159543 \n",
      "Joinable columns: 11_1 \n",
      "#rows: 149 \n",
      "#columns: 28 \n"
     ]
    },
    {
     "data": {
      "text/html": [
       "<style type=\"text/css\">\n",
       "#T_6676c_row0_col1, #T_6676c_row0_col11, #T_6676c_row1_col1, #T_6676c_row1_col11, #T_6676c_row2_col1, #T_6676c_row2_col11, #T_6676c_row3_col1, #T_6676c_row3_col11 {\n",
       "  background-color: lightgreen;\n",
       "}\n",
       "</style>\n",
       "<table id=\"T_6676c\">\n",
       "  <thead>\n",
       "    <tr>\n",
       "      <th class=\"blank level0\" >&nbsp;</th>\n",
       "      <th id=\"T_6676c_level0_col0\" class=\"col_heading level0 col0\" >color</th>\n",
       "      <th id=\"T_6676c_level0_col1\" class=\"col_heading level0 col1\" >director_name</th>\n",
       "      <th id=\"T_6676c_level0_col2\" class=\"col_heading level0 col2\" >num_critic_for_reviews</th>\n",
       "      <th id=\"T_6676c_level0_col3\" class=\"col_heading level0 col3\" >duration</th>\n",
       "      <th id=\"T_6676c_level0_col4\" class=\"col_heading level0 col4\" >director_facebook_likes</th>\n",
       "      <th id=\"T_6676c_level0_col5\" class=\"col_heading level0 col5\" >actor_3_facebook_likes</th>\n",
       "      <th id=\"T_6676c_level0_col6\" class=\"col_heading level0 col6\" >actor_2_name</th>\n",
       "      <th id=\"T_6676c_level0_col7\" class=\"col_heading level0 col7\" >actor_1_facebook_likes</th>\n",
       "      <th id=\"T_6676c_level0_col8\" class=\"col_heading level0 col8\" >gross</th>\n",
       "      <th id=\"T_6676c_level0_col9\" class=\"col_heading level0 col9\" >genres</th>\n",
       "      <th id=\"T_6676c_level0_col10\" class=\"col_heading level0 col10\" >actor_1_name</th>\n",
       "      <th id=\"T_6676c_level0_col11\" class=\"col_heading level0 col11\" >movie_title</th>\n",
       "      <th id=\"T_6676c_level0_col12\" class=\"col_heading level0 col12\" >num_voted_users</th>\n",
       "      <th id=\"T_6676c_level0_col13\" class=\"col_heading level0 col13\" >cast_total_facebook_likes</th>\n",
       "      <th id=\"T_6676c_level0_col14\" class=\"col_heading level0 col14\" >actor_3_name</th>\n",
       "      <th id=\"T_6676c_level0_col15\" class=\"col_heading level0 col15\" >facenumber_in_poster</th>\n",
       "      <th id=\"T_6676c_level0_col16\" class=\"col_heading level0 col16\" >plot_keywords</th>\n",
       "      <th id=\"T_6676c_level0_col17\" class=\"col_heading level0 col17\" >movie_imdb_link</th>\n",
       "      <th id=\"T_6676c_level0_col18\" class=\"col_heading level0 col18\" >num_user_for_reviews</th>\n",
       "      <th id=\"T_6676c_level0_col19\" class=\"col_heading level0 col19\" >language</th>\n",
       "      <th id=\"T_6676c_level0_col20\" class=\"col_heading level0 col20\" >country</th>\n",
       "      <th id=\"T_6676c_level0_col21\" class=\"col_heading level0 col21\" >content_rating</th>\n",
       "      <th id=\"T_6676c_level0_col22\" class=\"col_heading level0 col22\" >budget</th>\n",
       "      <th id=\"T_6676c_level0_col23\" class=\"col_heading level0 col23\" >title_year</th>\n",
       "      <th id=\"T_6676c_level0_col24\" class=\"col_heading level0 col24\" >actor_2_facebook_likes</th>\n",
       "      <th id=\"T_6676c_level0_col25\" class=\"col_heading level0 col25\" >imdb_score</th>\n",
       "      <th id=\"T_6676c_level0_col26\" class=\"col_heading level0 col26\" >aspect_ratio</th>\n",
       "      <th id=\"T_6676c_level0_col27\" class=\"col_heading level0 col27\" >movie_facebook_likes</th>\n",
       "    </tr>\n",
       "  </thead>\n",
       "  <tbody>\n",
       "    <tr>\n",
       "      <th id=\"T_6676c_level0_row0\" class=\"row_heading level0 row0\" >0</th>\n",
       "      <td id=\"T_6676c_row0_col0\" class=\"data row0 col0\" >color</td>\n",
       "      <td id=\"T_6676c_row0_col1\" class=\"data row0 col1\" >james cameron</td>\n",
       "      <td id=\"T_6676c_row0_col2\" class=\"data row0 col2\" >723 0</td>\n",
       "      <td id=\"T_6676c_row0_col3\" class=\"data row0 col3\" >178 0</td>\n",
       "      <td id=\"T_6676c_row0_col4\" class=\"data row0 col4\" >0</td>\n",
       "      <td id=\"T_6676c_row0_col5\" class=\"data row0 col5\" >855 0</td>\n",
       "      <td id=\"T_6676c_row0_col6\" class=\"data row0 col6\" >joel david moore</td>\n",
       "      <td id=\"T_6676c_row0_col7\" class=\"data row0 col7\" >1000</td>\n",
       "      <td id=\"T_6676c_row0_col8\" class=\"data row0 col8\" >760505847 0</td>\n",
       "      <td id=\"T_6676c_row0_col9\" class=\"data row0 col9\" >action adventure fantasy sci fi</td>\n",
       "      <td id=\"T_6676c_row0_col10\" class=\"data row0 col10\" >cch pounder</td>\n",
       "      <td id=\"T_6676c_row0_col11\" class=\"data row0 col11\" >avatar</td>\n",
       "      <td id=\"T_6676c_row0_col12\" class=\"data row0 col12\" >886204</td>\n",
       "      <td id=\"T_6676c_row0_col13\" class=\"data row0 col13\" >4834</td>\n",
       "      <td id=\"T_6676c_row0_col14\" class=\"data row0 col14\" >wes studi</td>\n",
       "      <td id=\"T_6676c_row0_col15\" class=\"data row0 col15\" >0 0</td>\n",
       "      <td id=\"T_6676c_row0_col16\" class=\"data row0 col16\" >avatar future marine native paraplegic</td>\n",
       "      <td id=\"T_6676c_row0_col17\" class=\"data row0 col17\" >http www imdb com title tt0499549 ref fn tt tt 1</td>\n",
       "      <td id=\"T_6676c_row0_col18\" class=\"data row0 col18\" >3054 0</td>\n",
       "      <td id=\"T_6676c_row0_col19\" class=\"data row0 col19\" >english</td>\n",
       "      <td id=\"T_6676c_row0_col20\" class=\"data row0 col20\" >usa</td>\n",
       "      <td id=\"T_6676c_row0_col21\" class=\"data row0 col21\" >pg 13</td>\n",
       "      <td id=\"T_6676c_row0_col22\" class=\"data row0 col22\" >237000000 0</td>\n",
       "      <td id=\"T_6676c_row0_col23\" class=\"data row0 col23\" >2009 0</td>\n",
       "      <td id=\"T_6676c_row0_col24\" class=\"data row0 col24\" >936</td>\n",
       "      <td id=\"T_6676c_row0_col25\" class=\"data row0 col25\" >7 9</td>\n",
       "      <td id=\"T_6676c_row0_col26\" class=\"data row0 col26\" >1 78</td>\n",
       "      <td id=\"T_6676c_row0_col27\" class=\"data row0 col27\" >33000</td>\n",
       "    </tr>\n",
       "    <tr>\n",
       "      <th id=\"T_6676c_level0_row1\" class=\"row_heading level0 row1\" >1</th>\n",
       "      <td id=\"T_6676c_row1_col0\" class=\"data row1 col0\" >color</td>\n",
       "      <td id=\"T_6676c_row1_col1\" class=\"data row1 col1\" >gore verbinski</td>\n",
       "      <td id=\"T_6676c_row1_col2\" class=\"data row1 col2\" >302 0</td>\n",
       "      <td id=\"T_6676c_row1_col3\" class=\"data row1 col3\" >169 0</td>\n",
       "      <td id=\"T_6676c_row1_col4\" class=\"data row1 col4\" >563</td>\n",
       "      <td id=\"T_6676c_row1_col5\" class=\"data row1 col5\" >1000 0</td>\n",
       "      <td id=\"T_6676c_row1_col6\" class=\"data row1 col6\" >orlando bloom</td>\n",
       "      <td id=\"T_6676c_row1_col7\" class=\"data row1 col7\" >40000</td>\n",
       "      <td id=\"T_6676c_row1_col8\" class=\"data row1 col8\" >309404152 0</td>\n",
       "      <td id=\"T_6676c_row1_col9\" class=\"data row1 col9\" >action adventure fantasy</td>\n",
       "      <td id=\"T_6676c_row1_col10\" class=\"data row1 col10\" >johnny depp</td>\n",
       "      <td id=\"T_6676c_row1_col11\" class=\"data row1 col11\" >pirates caribbean world s end</td>\n",
       "      <td id=\"T_6676c_row1_col12\" class=\"data row1 col12\" >471220</td>\n",
       "      <td id=\"T_6676c_row1_col13\" class=\"data row1 col13\" >48350</td>\n",
       "      <td id=\"T_6676c_row1_col14\" class=\"data row1 col14\" >jack davenport</td>\n",
       "      <td id=\"T_6676c_row1_col15\" class=\"data row1 col15\" >0 0</td>\n",
       "      <td id=\"T_6676c_row1_col16\" class=\"data row1 col16\" >goddess marriage ceremony marriage proposal pirate singapore</td>\n",
       "      <td id=\"T_6676c_row1_col17\" class=\"data row1 col17\" >http www imdb com title tt0449088 ref fn tt tt 1</td>\n",
       "      <td id=\"T_6676c_row1_col18\" class=\"data row1 col18\" >1238 0</td>\n",
       "      <td id=\"T_6676c_row1_col19\" class=\"data row1 col19\" >english</td>\n",
       "      <td id=\"T_6676c_row1_col20\" class=\"data row1 col20\" >usa</td>\n",
       "      <td id=\"T_6676c_row1_col21\" class=\"data row1 col21\" >pg 13</td>\n",
       "      <td id=\"T_6676c_row1_col22\" class=\"data row1 col22\" >300000000 0</td>\n",
       "      <td id=\"T_6676c_row1_col23\" class=\"data row1 col23\" >2007 0</td>\n",
       "      <td id=\"T_6676c_row1_col24\" class=\"data row1 col24\" >5000</td>\n",
       "      <td id=\"T_6676c_row1_col25\" class=\"data row1 col25\" >7 1</td>\n",
       "      <td id=\"T_6676c_row1_col26\" class=\"data row1 col26\" >2 35</td>\n",
       "      <td id=\"T_6676c_row1_col27\" class=\"data row1 col27\" >0</td>\n",
       "    </tr>\n",
       "    <tr>\n",
       "      <th id=\"T_6676c_level0_row2\" class=\"row_heading level0 row2\" >2</th>\n",
       "      <td id=\"T_6676c_row2_col0\" class=\"data row2 col0\" >color</td>\n",
       "      <td id=\"T_6676c_row2_col1\" class=\"data row2 col1\" >sam mendes</td>\n",
       "      <td id=\"T_6676c_row2_col2\" class=\"data row2 col2\" >602 0</td>\n",
       "      <td id=\"T_6676c_row2_col3\" class=\"data row2 col3\" >148 0</td>\n",
       "      <td id=\"T_6676c_row2_col4\" class=\"data row2 col4\" >0</td>\n",
       "      <td id=\"T_6676c_row2_col5\" class=\"data row2 col5\" >161 0</td>\n",
       "      <td id=\"T_6676c_row2_col6\" class=\"data row2 col6\" >rory kinnear</td>\n",
       "      <td id=\"T_6676c_row2_col7\" class=\"data row2 col7\" >11000</td>\n",
       "      <td id=\"T_6676c_row2_col8\" class=\"data row2 col8\" >200074175 0</td>\n",
       "      <td id=\"T_6676c_row2_col9\" class=\"data row2 col9\" >action adventure thriller</td>\n",
       "      <td id=\"T_6676c_row2_col10\" class=\"data row2 col10\" >christoph waltz</td>\n",
       "      <td id=\"T_6676c_row2_col11\" class=\"data row2 col11\" >spectre</td>\n",
       "      <td id=\"T_6676c_row2_col12\" class=\"data row2 col12\" >275868</td>\n",
       "      <td id=\"T_6676c_row2_col13\" class=\"data row2 col13\" >11700</td>\n",
       "      <td id=\"T_6676c_row2_col14\" class=\"data row2 col14\" >stephanie sigman</td>\n",
       "      <td id=\"T_6676c_row2_col15\" class=\"data row2 col15\" >1 0</td>\n",
       "      <td id=\"T_6676c_row2_col16\" class=\"data row2 col16\" >bomb espionage sequel spy terrorist</td>\n",
       "      <td id=\"T_6676c_row2_col17\" class=\"data row2 col17\" >http www imdb com title tt2379713 ref fn tt tt 1</td>\n",
       "      <td id=\"T_6676c_row2_col18\" class=\"data row2 col18\" >994 0</td>\n",
       "      <td id=\"T_6676c_row2_col19\" class=\"data row2 col19\" >english</td>\n",
       "      <td id=\"T_6676c_row2_col20\" class=\"data row2 col20\" >uk</td>\n",
       "      <td id=\"T_6676c_row2_col21\" class=\"data row2 col21\" >pg 13</td>\n",
       "      <td id=\"T_6676c_row2_col22\" class=\"data row2 col22\" >245000000 0</td>\n",
       "      <td id=\"T_6676c_row2_col23\" class=\"data row2 col23\" >2015 0</td>\n",
       "      <td id=\"T_6676c_row2_col24\" class=\"data row2 col24\" >393</td>\n",
       "      <td id=\"T_6676c_row2_col25\" class=\"data row2 col25\" >6 8</td>\n",
       "      <td id=\"T_6676c_row2_col26\" class=\"data row2 col26\" >2 35</td>\n",
       "      <td id=\"T_6676c_row2_col27\" class=\"data row2 col27\" >85000</td>\n",
       "    </tr>\n",
       "    <tr>\n",
       "      <th id=\"T_6676c_level0_row3\" class=\"row_heading level0 row3\" >3</th>\n",
       "      <td id=\"T_6676c_row3_col0\" class=\"data row3 col0\" >color</td>\n",
       "      <td id=\"T_6676c_row3_col1\" class=\"data row3 col1\" >christopher nolan</td>\n",
       "      <td id=\"T_6676c_row3_col2\" class=\"data row3 col2\" >813 0</td>\n",
       "      <td id=\"T_6676c_row3_col3\" class=\"data row3 col3\" >164 0</td>\n",
       "      <td id=\"T_6676c_row3_col4\" class=\"data row3 col4\" >22000</td>\n",
       "      <td id=\"T_6676c_row3_col5\" class=\"data row3 col5\" >23000 0</td>\n",
       "      <td id=\"T_6676c_row3_col6\" class=\"data row3 col6\" >christian bale</td>\n",
       "      <td id=\"T_6676c_row3_col7\" class=\"data row3 col7\" >27000</td>\n",
       "      <td id=\"T_6676c_row3_col8\" class=\"data row3 col8\" >448130642 0</td>\n",
       "      <td id=\"T_6676c_row3_col9\" class=\"data row3 col9\" >action thriller</td>\n",
       "      <td id=\"T_6676c_row3_col10\" class=\"data row3 col10\" >tom hardy</td>\n",
       "      <td id=\"T_6676c_row3_col11\" class=\"data row3 col11\" >dark knight rises</td>\n",
       "      <td id=\"T_6676c_row3_col12\" class=\"data row3 col12\" >1144337</td>\n",
       "      <td id=\"T_6676c_row3_col13\" class=\"data row3 col13\" >106759</td>\n",
       "      <td id=\"T_6676c_row3_col14\" class=\"data row3 col14\" >joseph gordon levitt</td>\n",
       "      <td id=\"T_6676c_row3_col15\" class=\"data row3 col15\" >0 0</td>\n",
       "      <td id=\"T_6676c_row3_col16\" class=\"data row3 col16\" >deception imprisonment lawlessness police officer terrorist plot</td>\n",
       "      <td id=\"T_6676c_row3_col17\" class=\"data row3 col17\" >http www imdb com title tt1345836 ref fn tt tt 1</td>\n",
       "      <td id=\"T_6676c_row3_col18\" class=\"data row3 col18\" >2701 0</td>\n",
       "      <td id=\"T_6676c_row3_col19\" class=\"data row3 col19\" >english</td>\n",
       "      <td id=\"T_6676c_row3_col20\" class=\"data row3 col20\" >usa</td>\n",
       "      <td id=\"T_6676c_row3_col21\" class=\"data row3 col21\" >pg 13</td>\n",
       "      <td id=\"T_6676c_row3_col22\" class=\"data row3 col22\" >250000000 0</td>\n",
       "      <td id=\"T_6676c_row3_col23\" class=\"data row3 col23\" >2012 0</td>\n",
       "      <td id=\"T_6676c_row3_col24\" class=\"data row3 col24\" >23000</td>\n",
       "      <td id=\"T_6676c_row3_col25\" class=\"data row3 col25\" >8 5</td>\n",
       "      <td id=\"T_6676c_row3_col26\" class=\"data row3 col26\" >2 35</td>\n",
       "      <td id=\"T_6676c_row3_col27\" class=\"data row3 col27\" >164000</td>\n",
       "    </tr>\n",
       "    <tr>\n",
       "      <th id=\"T_6676c_level0_row4\" class=\"row_heading level0 row4\" >4</th>\n",
       "      <td id=\"T_6676c_row4_col0\" class=\"data row4 col0\" >none</td>\n",
       "      <td id=\"T_6676c_row4_col1\" class=\"data row4 col1\" >doug walker</td>\n",
       "      <td id=\"T_6676c_row4_col2\" class=\"data row4 col2\" >nan</td>\n",
       "      <td id=\"T_6676c_row4_col3\" class=\"data row4 col3\" >nan</td>\n",
       "      <td id=\"T_6676c_row4_col4\" class=\"data row4 col4\" >131</td>\n",
       "      <td id=\"T_6676c_row4_col5\" class=\"data row4 col5\" >nan</td>\n",
       "      <td id=\"T_6676c_row4_col6\" class=\"data row4 col6\" >rob walker</td>\n",
       "      <td id=\"T_6676c_row4_col7\" class=\"data row4 col7\" >131</td>\n",
       "      <td id=\"T_6676c_row4_col8\" class=\"data row4 col8\" >nan</td>\n",
       "      <td id=\"T_6676c_row4_col9\" class=\"data row4 col9\" >documentary</td>\n",
       "      <td id=\"T_6676c_row4_col10\" class=\"data row4 col10\" >doug walker</td>\n",
       "      <td id=\"T_6676c_row4_col11\" class=\"data row4 col11\" >star wars episode vii force awakens</td>\n",
       "      <td id=\"T_6676c_row4_col12\" class=\"data row4 col12\" >8</td>\n",
       "      <td id=\"T_6676c_row4_col13\" class=\"data row4 col13\" >143</td>\n",
       "      <td id=\"T_6676c_row4_col14\" class=\"data row4 col14\" >none</td>\n",
       "      <td id=\"T_6676c_row4_col15\" class=\"data row4 col15\" >0 0</td>\n",
       "      <td id=\"T_6676c_row4_col16\" class=\"data row4 col16\" >none</td>\n",
       "      <td id=\"T_6676c_row4_col17\" class=\"data row4 col17\" >http www imdb com title tt5289954 ref fn tt tt 1</td>\n",
       "      <td id=\"T_6676c_row4_col18\" class=\"data row4 col18\" >nan</td>\n",
       "      <td id=\"T_6676c_row4_col19\" class=\"data row4 col19\" >none</td>\n",
       "      <td id=\"T_6676c_row4_col20\" class=\"data row4 col20\" >none</td>\n",
       "      <td id=\"T_6676c_row4_col21\" class=\"data row4 col21\" >none</td>\n",
       "      <td id=\"T_6676c_row4_col22\" class=\"data row4 col22\" >nan</td>\n",
       "      <td id=\"T_6676c_row4_col23\" class=\"data row4 col23\" >nan</td>\n",
       "      <td id=\"T_6676c_row4_col24\" class=\"data row4 col24\" >12</td>\n",
       "      <td id=\"T_6676c_row4_col25\" class=\"data row4 col25\" >7 1</td>\n",
       "      <td id=\"T_6676c_row4_col26\" class=\"data row4 col26\" >nan</td>\n",
       "      <td id=\"T_6676c_row4_col27\" class=\"data row4 col27\" >0</td>\n",
       "    </tr>\n",
       "  </tbody>\n",
       "</table>\n"
      ],
      "text/plain": [
       "<IPython.core.display.HTML object>"
      ]
     },
     "metadata": {},
     "output_type": "display_data"
    }
   ],
   "source": [
    "demo.display_joinable_table(2)"
   ]
  },
  {
   "cell_type": "markdown",
   "id": "a0f3da1f",
   "metadata": {
    "pycharm": {
     "name": "#%% md\n"
    }
   },
   "source": [
    "# 3) Duplicate Detection using XASH\n",
    "## Discover duplicate tables and their relationship"
   ]
  },
  {
   "cell_type": "code",
   "execution_count": 8,
   "id": "0b7a5e3d",
   "metadata": {
    "pycharm": {
     "name": "#%%\n"
    }
   },
   "outputs": [
    {
     "data": {
      "text/html": [
       "\n",
       "        <iframe\n",
       "            width=\"100%\"\n",
       "            height=\"1000px\"\n",
       "            src=\"nb.html\"\n",
       "            frameborder=\"0\"\n",
       "            allowfullscreen\n",
       "            \n",
       "        ></iframe>\n",
       "        "
      ],
      "text/plain": [
       "<IPython.lib.display.IFrame at 0x7fb6bd671c10>"
      ]
     },
     "execution_count": 8,
     "metadata": {},
     "output_type": "execute_result"
    }
   ],
   "source": [
    "demo.duplicate_detection().show(\"nb.html\")"
   ]
  },
  {
   "cell_type": "markdown",
   "id": "1c603132",
   "metadata": {
    "pycharm": {
     "name": "#%% md\n"
    }
   },
   "source": [
    "## Analyze XASH alternations"
   ]
  },
  {
   "cell_type": "code",
   "execution_count": 9,
   "id": "6c4751bb",
   "metadata": {
    "pycharm": {
     "name": "#%%\n"
    }
   },
   "outputs": [],
   "source": [
    "#demo.analyze_XASH_alternations(512, False, 5)"
   ]
  },
  {
   "cell_type": "code",
   "execution_count": 10,
   "id": "9e2e16c6",
   "metadata": {
    "pycharm": {
     "name": "#%%\n"
    }
   },
   "outputs": [],
   "source": [
    "demo.remove_duplicates()"
   ]
  },
  {
   "cell_type": "markdown",
   "id": "b242cd4a",
   "metadata": {
    "pycharm": {
     "name": "#%% md\n"
    }
   },
   "source": [
    "# 4) Correlation Calculation\n",
    "## Obtain top-10 correlating features using Order Index and COCOA Algorithm"
   ]
  },
  {
   "cell_type": "code",
   "execution_count": 11,
   "id": "3d243173",
   "metadata": {
    "pycharm": {
     "name": "#%%\n"
    },
    "scrolled": true
   },
   "outputs": [
    {
     "name": "stderr",
     "output_type": "stream",
     "text": [
      "100%|████████████████████████████████████████████| 2/2 [00:00<00:00, 221.36it/s]"
     ]
    },
    {
     "name": "stdout",
     "output_type": "stream",
     "text": [
      "Total runtime: 0.07s\n",
      "Preparation runtime: 0.06s\n",
      "Correlation calculation runtime: 0.01s\n",
      "\n",
      "Evaluated features: 33\n",
      "Max. correlation coefficient: 0.2409\n",
      "Min. correlation coefficient: 0.0000\n"
     ]
    },
    {
     "name": "stderr",
     "output_type": "stream",
     "text": [
      "\n"
     ]
    }
   ],
   "source": [
    "demo.correlation_calculation()"
   ]
  },
  {
   "cell_type": "markdown",
   "id": "9ef09424",
   "metadata": {},
   "source": [
    "## Add top 5 correlating features to the input dataset"
   ]
  },
  {
   "cell_type": "code",
   "execution_count": 12,
   "id": "42e7d200",
   "metadata": {},
   "outputs": [
    {
     "ename": "SyntaxError",
     "evalue": "invalid syntax (4047779387.py, line 1)",
     "output_type": "error",
     "traceback": [
      "\u001b[0;36m  Input \u001b[0;32mIn [12]\u001b[0;36m\u001b[0m\n\u001b[0;31m    demo.add_external_features(5):\u001b[0m\n\u001b[0m                                  ^\u001b[0m\n\u001b[0;31mSyntaxError\u001b[0m\u001b[0;31m:\u001b[0m invalid syntax\n"
     ]
    }
   ],
   "source": [
    "demo.add_external_features(5):"
   ]
  },
  {
   "cell_type": "markdown",
   "id": "40c3f808",
   "metadata": {},
   "source": [
    "## Inspect differences between Spearman and Pearson correlation coefficients"
   ]
  },
  {
   "cell_type": "code",
   "execution_count": null,
   "id": "069e7e96",
   "metadata": {},
   "outputs": [],
   "source": [
    "demo.plot_spearman_pearson()"
   ]
  },
  {
   "cell_type": "markdown",
   "id": "056eceac",
   "metadata": {
    "pycharm": {
     "name": "#%% md\n"
    }
   },
   "source": [
    "## Inspect correlation between input and top-correlating features"
   ]
  },
  {
   "cell_type": "code",
   "execution_count": null,
   "id": "df5b92e6",
   "metadata": {
    "pycharm": {
     "name": "#%%\n"
    }
   },
   "outputs": [],
   "source": [
    "demo.plot_correlation_heatmap()"
   ]
  },
  {
   "cell_type": "code",
   "execution_count": null,
   "id": "51b6b972",
   "metadata": {
    "pycharm": {
     "name": "#%%\n"
    }
   },
   "outputs": [],
   "source": [
    "demo.fit_and_evaluate_model()"
   ]
  },
  {
   "cell_type": "code",
   "execution_count": null,
   "id": "184e90e5",
   "metadata": {
    "pycharm": {
     "name": "#%%\n"
    }
   },
   "outputs": [],
   "source": []
  }
 ],
 "metadata": {
  "kernelspec": {
   "display_name": "Python 3 (ipykernel)",
   "language": "python",
   "name": "python3"
  },
  "language_info": {
   "codemirror_mode": {
    "name": "ipython",
    "version": 3
   },
   "file_extension": ".py",
   "mimetype": "text/x-python",
   "name": "python",
   "nbconvert_exporter": "python",
   "pygments_lexer": "ipython3",
   "version": "3.9.12"
  }
 },
 "nbformat": 4,
 "nbformat_minor": 5
}
