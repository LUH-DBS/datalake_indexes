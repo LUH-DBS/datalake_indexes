{
 "cells": [
  {
   "cell_type": "markdown",
   "id": "432c60c8",
   "metadata": {
    "pycharm": {
     "name": "#%% md\n"
    }
   },
   "source": [
    "# Demonstrating Multi-attribute and Order-indexes for Data Discovery"
   ]
  },
  {
   "cell_type": "code",
   "execution_count": 1,
   "id": "a24f8035",
   "metadata": {},
   "outputs": [],
   "source": [
    "from datalake_indexes_demo import DatalakeIndexesDemo\n",
    "\n",
    "demo = DatalakeIndexesDemo(\"/Users/jannisbecktepe/Developer/db_config.json\",\n",
    "                           \"cafe_gittables2\")"
   ]
  },
  {
   "cell_type": "markdown",
   "id": "adef9775",
   "metadata": {},
   "source": [
    "## 1) Input Preparation\n",
    "### Read input dataset"
   ]
  },
  {
   "cell_type": "code",
   "execution_count": 2,
   "id": "5f63f92c",
   "metadata": {},
   "outputs": [
    {
     "name": "stdout",
     "output_type": "stream",
     "text": [
      "Shape: (100, 5)\n"
     ]
    },
    {
     "data": {
      "text/html": [
       "<table border=\"1\" class=\"dataframe\">\n",
       "  <thead>\n",
       "    <tr style=\"text-align: right;\">\n",
       "      <th></th>\n",
       "      <th>movie_title</th>\n",
       "      <th>duration</th>\n",
       "      <th>director_name</th>\n",
       "      <th>genres</th>\n",
       "      <th>imdb_score</th>\n",
       "    </tr>\n",
       "  </thead>\n",
       "  <tbody>\n",
       "    <tr>\n",
       "      <th>0</th>\n",
       "      <td>Avatar</td>\n",
       "      <td>178</td>\n",
       "      <td>James Cameron</td>\n",
       "      <td>Action|Adventure|Fantasy|Sci-Fi</td>\n",
       "      <td>7.9</td>\n",
       "    </tr>\n",
       "    <tr>\n",
       "      <th>1</th>\n",
       "      <td>Pirates of the Caribbean: At World's End</td>\n",
       "      <td>169</td>\n",
       "      <td>Gore Verbinski</td>\n",
       "      <td>Action|Adventure|Fantasy</td>\n",
       "      <td>7.1</td>\n",
       "    </tr>\n",
       "    <tr>\n",
       "      <th>2</th>\n",
       "      <td>Spectre</td>\n",
       "      <td>148</td>\n",
       "      <td>Sam Mendes</td>\n",
       "      <td>Action|Adventure|Thriller</td>\n",
       "      <td>6.8</td>\n",
       "    </tr>\n",
       "    <tr>\n",
       "      <th>3</th>\n",
       "      <td>The Dark Knight Rises</td>\n",
       "      <td>164</td>\n",
       "      <td>Christopher Nolan</td>\n",
       "      <td>Action|Thriller</td>\n",
       "      <td>8.5</td>\n",
       "    </tr>\n",
       "    <tr>\n",
       "      <th>4</th>\n",
       "      <td>Star Wars: Episode VII - The Force Awakens</td>\n",
       "      <td>NaN</td>\n",
       "      <td>Doug Walker</td>\n",
       "      <td>Documentary</td>\n",
       "      <td>7.1</td>\n",
       "    </tr>\n",
       "  </tbody>\n",
       "</table>"
      ],
      "text/plain": [
       "<IPython.core.display.HTML object>"
      ]
     },
     "metadata": {},
     "output_type": "display_data"
    }
   ],
   "source": [
    "demo.read_input(\"../datasets/movie.csv\")"
   ]
  },
  {
   "cell_type": "markdown",
   "id": "b50a959b",
   "metadata": {},
   "source": [
    "### Select query columns"
   ]
  },
  {
   "cell_type": "code",
   "execution_count": 3,
   "id": "ee668ca0",
   "metadata": {},
   "outputs": [
    {
     "data": {
      "text/html": [
       "<style type=\"text/css\">\n",
       "#T_0c8c5_row0_col0, #T_0c8c5_row0_col2, #T_0c8c5_row1_col0, #T_0c8c5_row1_col2, #T_0c8c5_row2_col0, #T_0c8c5_row2_col2, #T_0c8c5_row3_col0, #T_0c8c5_row3_col2, #T_0c8c5_row4_col0, #T_0c8c5_row4_col2 {\n",
       "  background-color: lightgreen;\n",
       "}\n",
       "</style>\n",
       "<table id=\"T_0c8c5\">\n",
       "  <thead>\n",
       "    <tr>\n",
       "      <th class=\"blank level0\" >&nbsp;</th>\n",
       "      <th id=\"T_0c8c5_level0_col0\" class=\"col_heading level0 col0\" >movie_title</th>\n",
       "      <th id=\"T_0c8c5_level0_col1\" class=\"col_heading level0 col1\" >duration</th>\n",
       "      <th id=\"T_0c8c5_level0_col2\" class=\"col_heading level0 col2\" >director_name</th>\n",
       "      <th id=\"T_0c8c5_level0_col3\" class=\"col_heading level0 col3\" >genres</th>\n",
       "      <th id=\"T_0c8c5_level0_col4\" class=\"col_heading level0 col4\" >imdb_score</th>\n",
       "    </tr>\n",
       "  </thead>\n",
       "  <tbody>\n",
       "    <tr>\n",
       "      <th id=\"T_0c8c5_level0_row0\" class=\"row_heading level0 row0\" >0</th>\n",
       "      <td id=\"T_0c8c5_row0_col0\" class=\"data row0 col0\" >Avatar </td>\n",
       "      <td id=\"T_0c8c5_row0_col1\" class=\"data row0 col1\" >178</td>\n",
       "      <td id=\"T_0c8c5_row0_col2\" class=\"data row0 col2\" >James Cameron</td>\n",
       "      <td id=\"T_0c8c5_row0_col3\" class=\"data row0 col3\" >Action|Adventure|Fantasy|Sci-Fi</td>\n",
       "      <td id=\"T_0c8c5_row0_col4\" class=\"data row0 col4\" >7.9</td>\n",
       "    </tr>\n",
       "    <tr>\n",
       "      <th id=\"T_0c8c5_level0_row1\" class=\"row_heading level0 row1\" >1</th>\n",
       "      <td id=\"T_0c8c5_row1_col0\" class=\"data row1 col0\" >Pirates of the Caribbean: At World's End </td>\n",
       "      <td id=\"T_0c8c5_row1_col1\" class=\"data row1 col1\" >169</td>\n",
       "      <td id=\"T_0c8c5_row1_col2\" class=\"data row1 col2\" >Gore Verbinski</td>\n",
       "      <td id=\"T_0c8c5_row1_col3\" class=\"data row1 col3\" >Action|Adventure|Fantasy</td>\n",
       "      <td id=\"T_0c8c5_row1_col4\" class=\"data row1 col4\" >7.1</td>\n",
       "    </tr>\n",
       "    <tr>\n",
       "      <th id=\"T_0c8c5_level0_row2\" class=\"row_heading level0 row2\" >2</th>\n",
       "      <td id=\"T_0c8c5_row2_col0\" class=\"data row2 col0\" >Spectre </td>\n",
       "      <td id=\"T_0c8c5_row2_col1\" class=\"data row2 col1\" >148</td>\n",
       "      <td id=\"T_0c8c5_row2_col2\" class=\"data row2 col2\" >Sam Mendes</td>\n",
       "      <td id=\"T_0c8c5_row2_col3\" class=\"data row2 col3\" >Action|Adventure|Thriller</td>\n",
       "      <td id=\"T_0c8c5_row2_col4\" class=\"data row2 col4\" >6.8</td>\n",
       "    </tr>\n",
       "    <tr>\n",
       "      <th id=\"T_0c8c5_level0_row3\" class=\"row_heading level0 row3\" >3</th>\n",
       "      <td id=\"T_0c8c5_row3_col0\" class=\"data row3 col0\" >The Dark Knight Rises </td>\n",
       "      <td id=\"T_0c8c5_row3_col1\" class=\"data row3 col1\" >164</td>\n",
       "      <td id=\"T_0c8c5_row3_col2\" class=\"data row3 col2\" >Christopher Nolan</td>\n",
       "      <td id=\"T_0c8c5_row3_col3\" class=\"data row3 col3\" >Action|Thriller</td>\n",
       "      <td id=\"T_0c8c5_row3_col4\" class=\"data row3 col4\" >8.5</td>\n",
       "    </tr>\n",
       "    <tr>\n",
       "      <th id=\"T_0c8c5_level0_row4\" class=\"row_heading level0 row4\" >4</th>\n",
       "      <td id=\"T_0c8c5_row4_col0\" class=\"data row4 col0\" >Star Wars: Episode VII - The Force Awakens             </td>\n",
       "      <td id=\"T_0c8c5_row4_col1\" class=\"data row4 col1\" >nan</td>\n",
       "      <td id=\"T_0c8c5_row4_col2\" class=\"data row4 col2\" >Doug Walker</td>\n",
       "      <td id=\"T_0c8c5_row4_col3\" class=\"data row4 col3\" >Documentary</td>\n",
       "      <td id=\"T_0c8c5_row4_col4\" class=\"data row4 col4\" >7.1</td>\n",
       "    </tr>\n",
       "  </tbody>\n",
       "</table>\n"
      ],
      "text/plain": [
       "<IPython.core.display.HTML object>"
      ]
     },
     "metadata": {},
     "output_type": "display_data"
    }
   ],
   "source": [
    "demo.set_query_columns([\"movie_title\", \"director_name\"])"
   ]
  },
  {
   "cell_type": "markdown",
   "id": "b018cf18",
   "metadata": {},
   "source": [
    "### Select target column"
   ]
  },
  {
   "cell_type": "code",
   "execution_count": 4,
   "id": "e4ec238b",
   "metadata": {
    "scrolled": true
   },
   "outputs": [
    {
     "data": {
      "text/html": [
       "<style type=\"text/css\">\n",
       "#T_47cc1_row0_col0, #T_47cc1_row0_col2, #T_47cc1_row1_col0, #T_47cc1_row1_col2, #T_47cc1_row2_col0, #T_47cc1_row2_col2, #T_47cc1_row3_col0, #T_47cc1_row3_col2, #T_47cc1_row4_col0, #T_47cc1_row4_col2 {\n",
       "  background-color: lightgreen;\n",
       "}\n",
       "#T_47cc1_row0_col4, #T_47cc1_row1_col4, #T_47cc1_row2_col4, #T_47cc1_row3_col4, #T_47cc1_row4_col4 {\n",
       "  background-color: orange;\n",
       "}\n",
       "</style>\n",
       "<table id=\"T_47cc1\">\n",
       "  <thead>\n",
       "    <tr>\n",
       "      <th class=\"blank level0\" >&nbsp;</th>\n",
       "      <th id=\"T_47cc1_level0_col0\" class=\"col_heading level0 col0\" >movie_title</th>\n",
       "      <th id=\"T_47cc1_level0_col1\" class=\"col_heading level0 col1\" >duration</th>\n",
       "      <th id=\"T_47cc1_level0_col2\" class=\"col_heading level0 col2\" >director_name</th>\n",
       "      <th id=\"T_47cc1_level0_col3\" class=\"col_heading level0 col3\" >genres</th>\n",
       "      <th id=\"T_47cc1_level0_col4\" class=\"col_heading level0 col4\" >imdb_score</th>\n",
       "    </tr>\n",
       "  </thead>\n",
       "  <tbody>\n",
       "    <tr>\n",
       "      <th id=\"T_47cc1_level0_row0\" class=\"row_heading level0 row0\" >0</th>\n",
       "      <td id=\"T_47cc1_row0_col0\" class=\"data row0 col0\" >Avatar </td>\n",
       "      <td id=\"T_47cc1_row0_col1\" class=\"data row0 col1\" >178</td>\n",
       "      <td id=\"T_47cc1_row0_col2\" class=\"data row0 col2\" >James Cameron</td>\n",
       "      <td id=\"T_47cc1_row0_col3\" class=\"data row0 col3\" >Action|Adventure|Fantasy|Sci-Fi</td>\n",
       "      <td id=\"T_47cc1_row0_col4\" class=\"data row0 col4\" >7.9</td>\n",
       "    </tr>\n",
       "    <tr>\n",
       "      <th id=\"T_47cc1_level0_row1\" class=\"row_heading level0 row1\" >1</th>\n",
       "      <td id=\"T_47cc1_row1_col0\" class=\"data row1 col0\" >Pirates of the Caribbean: At World's End </td>\n",
       "      <td id=\"T_47cc1_row1_col1\" class=\"data row1 col1\" >169</td>\n",
       "      <td id=\"T_47cc1_row1_col2\" class=\"data row1 col2\" >Gore Verbinski</td>\n",
       "      <td id=\"T_47cc1_row1_col3\" class=\"data row1 col3\" >Action|Adventure|Fantasy</td>\n",
       "      <td id=\"T_47cc1_row1_col4\" class=\"data row1 col4\" >7.1</td>\n",
       "    </tr>\n",
       "    <tr>\n",
       "      <th id=\"T_47cc1_level0_row2\" class=\"row_heading level0 row2\" >2</th>\n",
       "      <td id=\"T_47cc1_row2_col0\" class=\"data row2 col0\" >Spectre </td>\n",
       "      <td id=\"T_47cc1_row2_col1\" class=\"data row2 col1\" >148</td>\n",
       "      <td id=\"T_47cc1_row2_col2\" class=\"data row2 col2\" >Sam Mendes</td>\n",
       "      <td id=\"T_47cc1_row2_col3\" class=\"data row2 col3\" >Action|Adventure|Thriller</td>\n",
       "      <td id=\"T_47cc1_row2_col4\" class=\"data row2 col4\" >6.8</td>\n",
       "    </tr>\n",
       "    <tr>\n",
       "      <th id=\"T_47cc1_level0_row3\" class=\"row_heading level0 row3\" >3</th>\n",
       "      <td id=\"T_47cc1_row3_col0\" class=\"data row3 col0\" >The Dark Knight Rises </td>\n",
       "      <td id=\"T_47cc1_row3_col1\" class=\"data row3 col1\" >164</td>\n",
       "      <td id=\"T_47cc1_row3_col2\" class=\"data row3 col2\" >Christopher Nolan</td>\n",
       "      <td id=\"T_47cc1_row3_col3\" class=\"data row3 col3\" >Action|Thriller</td>\n",
       "      <td id=\"T_47cc1_row3_col4\" class=\"data row3 col4\" >8.5</td>\n",
       "    </tr>\n",
       "    <tr>\n",
       "      <th id=\"T_47cc1_level0_row4\" class=\"row_heading level0 row4\" >4</th>\n",
       "      <td id=\"T_47cc1_row4_col0\" class=\"data row4 col0\" >Star Wars: Episode VII - The Force Awakens             </td>\n",
       "      <td id=\"T_47cc1_row4_col1\" class=\"data row4 col1\" >nan</td>\n",
       "      <td id=\"T_47cc1_row4_col2\" class=\"data row4 col2\" >Doug Walker</td>\n",
       "      <td id=\"T_47cc1_row4_col3\" class=\"data row4 col3\" >Documentary</td>\n",
       "      <td id=\"T_47cc1_row4_col4\" class=\"data row4 col4\" >7.1</td>\n",
       "    </tr>\n",
       "  </tbody>\n",
       "</table>\n"
      ],
      "text/plain": [
       "<IPython.core.display.HTML object>"
      ]
     },
     "metadata": {},
     "output_type": "display_data"
    }
   ],
   "source": [
    "demo.set_target_column(\"imdb_score\")"
   ]
  },
  {
   "cell_type": "markdown",
   "id": "3a282679",
   "metadata": {
    "pycharm": {
     "name": "#%% md\n"
    }
   },
   "source": [
    "## 2) Joinability Discovery\n",
    "\n",
    "### Find top-10 joinable tables using Super Key Index and MATE Algorithm"
   ]
  },
  {
   "cell_type": "code",
   "execution_count": 5,
   "id": "ecfe524b",
   "metadata": {},
   "outputs": [
    {
     "name": "stderr",
     "output_type": "stream",
     "text": [
      "100%|████████████████████████████████████████| 500/500 [00:01<00:00, 429.83it/s]\n"
     ]
    },
    {
     "name": "stdout",
     "output_type": "stream",
     "text": [
      "MATE runtime:     1.06s\n",
      "Database runtime: 0.97s\n",
      "\n",
      "Total tables:             12878\n",
      "Pruned tables:            0\n",
      "\n",
      "Hash-based filtered rows: 11765\n",
      "Hash-based approved rows: 576\n",
      "Matching rows:            514\n",
      "FP rows:                  62\n",
      "Found 10 joinable tables.\n"
     ]
    }
   ],
   "source": [
    "demo.joinability_discovery()"
   ]
  },
  {
   "cell_type": "markdown",
   "id": "0804f211",
   "metadata": {},
   "source": [
    "### Plot joinability score for joinable tables"
   ]
  },
  {
   "cell_type": "code",
   "execution_count": 6,
   "id": "a4759690",
   "metadata": {},
   "outputs": [
    {
     "data": {
      "image/png": "[encoded data removed]",
      "text/plain": [
       "<Figure size 720x288 with 1 Axes>"
      ]
     },
     "metadata": {
      "needs_background": "light"
     },
     "output_type": "display_data"
    }
   ],
   "source": [
    "demo.plot_joinability_scores()"
   ]
  },
  {
   "cell_type": "markdown",
   "id": "6c9b8eb1",
   "metadata": {},
   "source": [
    "### Display joinable table with rank #1"
   ]
  },
  {
   "cell_type": "code",
   "execution_count": 7,
   "id": "e2048550",
   "metadata": {},
   "outputs": [
    {
     "name": "stdout",
     "output_type": "stream",
     "text": [
      "Score: 96 \n",
      "Table ID: 21812 \n",
      "Joinable columns: 11_1 \n",
      "#rows: 149 \n",
      "#columns: 28 \n"
     ]
    },
    {
     "data": {
      "text/html": [
       "<style type=\"text/css\">\n",
       "#T_9f59c_row0_col0, #T_9f59c_row0_col2, #T_9f59c_row1_col0, #T_9f59c_row1_col2, #T_9f59c_row2_col0, #T_9f59c_row2_col2, #T_9f59c_row3_col0, #T_9f59c_row3_col2 {\n",
       "  background-color: lightgreen;\n",
       "}\n",
       "</style>\n",
       "<table id=\"T_9f59c\">\n",
       "  <thead>\n",
       "    <tr>\n",
       "      <th class=\"blank level0\" >&nbsp;</th>\n",
       "      <th id=\"T_9f59c_level0_col0\" class=\"col_heading level0 col0\" >movie_title</th>\n",
       "      <th id=\"T_9f59c_level0_col1\" class=\"col_heading level0 col1\" >duration</th>\n",
       "      <th id=\"T_9f59c_level0_col2\" class=\"col_heading level0 col2\" >director_name</th>\n",
       "      <th id=\"T_9f59c_level0_col3\" class=\"col_heading level0 col3\" >genres</th>\n",
       "      <th id=\"T_9f59c_level0_col4\" class=\"col_heading level0 col4\" >imdb_score</th>\n",
       "    </tr>\n",
       "  </thead>\n",
       "  <tbody>\n",
       "    <tr>\n",
       "      <th id=\"T_9f59c_level0_row0\" class=\"row_heading level0 row0\" >0</th>\n",
       "      <td id=\"T_9f59c_row0_col0\" class=\"data row0 col0\" >Avatar </td>\n",
       "      <td id=\"T_9f59c_row0_col1\" class=\"data row0 col1\" >178</td>\n",
       "      <td id=\"T_9f59c_row0_col2\" class=\"data row0 col2\" >James Cameron</td>\n",
       "      <td id=\"T_9f59c_row0_col3\" class=\"data row0 col3\" >Action|Adventure|Fantasy|Sci-Fi</td>\n",
       "      <td id=\"T_9f59c_row0_col4\" class=\"data row0 col4\" >7.9</td>\n",
       "    </tr>\n",
       "    <tr>\n",
       "      <th id=\"T_9f59c_level0_row1\" class=\"row_heading level0 row1\" >1</th>\n",
       "      <td id=\"T_9f59c_row1_col0\" class=\"data row1 col0\" >Pirates of the Caribbean: At World's End </td>\n",
       "      <td id=\"T_9f59c_row1_col1\" class=\"data row1 col1\" >169</td>\n",
       "      <td id=\"T_9f59c_row1_col2\" class=\"data row1 col2\" >Gore Verbinski</td>\n",
       "      <td id=\"T_9f59c_row1_col3\" class=\"data row1 col3\" >Action|Adventure|Fantasy</td>\n",
       "      <td id=\"T_9f59c_row1_col4\" class=\"data row1 col4\" >7.1</td>\n",
       "    </tr>\n",
       "    <tr>\n",
       "      <th id=\"T_9f59c_level0_row2\" class=\"row_heading level0 row2\" >2</th>\n",
       "      <td id=\"T_9f59c_row2_col0\" class=\"data row2 col0\" >Spectre </td>\n",
       "      <td id=\"T_9f59c_row2_col1\" class=\"data row2 col1\" >148</td>\n",
       "      <td id=\"T_9f59c_row2_col2\" class=\"data row2 col2\" >Sam Mendes</td>\n",
       "      <td id=\"T_9f59c_row2_col3\" class=\"data row2 col3\" >Action|Adventure|Thriller</td>\n",
       "      <td id=\"T_9f59c_row2_col4\" class=\"data row2 col4\" >6.8</td>\n",
       "    </tr>\n",
       "    <tr>\n",
       "      <th id=\"T_9f59c_level0_row3\" class=\"row_heading level0 row3\" >3</th>\n",
       "      <td id=\"T_9f59c_row3_col0\" class=\"data row3 col0\" >The Dark Knight Rises </td>\n",
       "      <td id=\"T_9f59c_row3_col1\" class=\"data row3 col1\" >164</td>\n",
       "      <td id=\"T_9f59c_row3_col2\" class=\"data row3 col2\" >Christopher Nolan</td>\n",
       "      <td id=\"T_9f59c_row3_col3\" class=\"data row3 col3\" >Action|Thriller</td>\n",
       "      <td id=\"T_9f59c_row3_col4\" class=\"data row3 col4\" >8.5</td>\n",
       "    </tr>\n",
       "    <tr>\n",
       "      <th id=\"T_9f59c_level0_row4\" class=\"row_heading level0 row4\" >4</th>\n",
       "      <td id=\"T_9f59c_row4_col0\" class=\"data row4 col0\" >Star Wars: Episode VII - The Force Awakens             </td>\n",
       "      <td id=\"T_9f59c_row4_col1\" class=\"data row4 col1\" >nan</td>\n",
       "      <td id=\"T_9f59c_row4_col2\" class=\"data row4 col2\" >Doug Walker</td>\n",
       "      <td id=\"T_9f59c_row4_col3\" class=\"data row4 col3\" >Documentary</td>\n",
       "      <td id=\"T_9f59c_row4_col4\" class=\"data row4 col4\" >7.1</td>\n",
       "    </tr>\n",
       "  </tbody>\n",
       "</table>\n"
      ],
      "text/plain": [
       "<IPython.core.display.HTML object>"
      ]
     },
     "metadata": {},
     "output_type": "display_data"
    }
   ],
   "source": [
    "demo.display_joinable_table(1)"
   ]
  },
  {
   "cell_type": "markdown",
   "id": "a0f3da1f",
   "metadata": {
    "pycharm": {
     "name": "#%% md\n"
    }
   },
   "source": [
    "# 3) Duplicate Detection using XASH\n",
    "## Discover duplicate tables and their relationship"
   ]
  },
  {
   "cell_type": "code",
   "execution_count": 8,
   "id": "0b7a5e3d",
   "metadata": {},
   "outputs": [
    {
     "data": {
      "text/html": [
       "\n",
       "        <iframe\n",
       "            width=\"100%\"\n",
       "            height=\"1000px\"\n",
       "            src=\"nb.html\"\n",
       "            frameborder=\"0\"\n",
       "            allowfullscreen\n",
       "            \n",
       "        ></iframe>\n",
       "        "
      ],
      "text/plain": [
       "<IPython.lib.display.IFrame at 0x7fce61730c10>"
      ]
     },
     "execution_count": 8,
     "metadata": {},
     "output_type": "execute_result"
    }
   ],
   "source": [
    "demo.duplicate_detection().show(\"nb.html\")"
   ]
  },
  {
   "cell_type": "markdown",
   "id": "1c603132",
   "metadata": {},
   "source": [
    "## Analyze XASH alternations"
   ]
  },
  {
   "cell_type": "code",
   "execution_count": 9,
   "id": "6c4751bb",
   "metadata": {},
   "outputs": [
    {
     "name": "stderr",
     "output_type": "stream",
     "text": [
      "100%|█████████████████████████████████████████| 500/500 [00:23<00:00, 21.01it/s]\n"
     ]
    },
    {
     "name": "stdout",
     "output_type": "stream",
     "text": [
      "MATE runtime:     0.50s\n",
      "\n",
      "Hash-based filtered rows: 11808\n",
      "Hash-based approved rows: 517\n",
      "Matching rows:            514\n",
      "FP rows:                  3\n"
     ]
    }
   ],
   "source": [
    "demo.analyze_XASH_alternations(512, False, 5)"
   ]
  },
  {
   "cell_type": "markdown",
   "id": "b242cd4a",
   "metadata": {
    "pycharm": {
     "name": "#%% md\n"
    }
   },
   "source": [
    "# 4) Correlation Calculation\n",
    "## Obtain top-10 correlating features using Order Index and COCOA Algorithm"
   ]
  },
  {
   "cell_type": "code",
   "execution_count": 10,
   "id": "3d243173",
   "metadata": {},
   "outputs": [],
   "source": [
    "# 4) Correlation Calculation\n",
    "## Obtain top-10 correlating features using Order Index and COCOA Algorithmdemo.correlation_calculation()"
   ]
  },
  {
   "cell_type": "markdown",
   "id": "056eceac",
   "metadata": {
    "pycharm": {
     "name": "#%% md\n"
    }
   },
   "source": [
    "## Inspect correlation between input and top-correlating features"
   ]
  },
  {
   "cell_type": "code",
   "execution_count": 11,
   "id": "df5b92e6",
   "metadata": {},
   "outputs": [
    {
     "name": "stdout",
     "output_type": "stream",
     "text": [
      "No output dataset available.\n"
     ]
    }
   ],
   "source": [
    "demo.plot_correlation()"
   ]
  },
  {
   "cell_type": "code",
   "execution_count": null,
   "id": "93a60f57",
   "metadata": {},
   "outputs": [],
   "source": []
  }
 ],
 "metadata": {
  "kernelspec": {
   "display_name": "Python 3 (ipykernel)",
   "language": "python",
   "name": "python3"
  },
  "language_info": {
   "codemirror_mode": {
    "name": "ipython",
    "version": 3
   },
   "file_extension": ".py",
   "mimetype": "text/x-python",
   "name": "python",
   "nbconvert_exporter": "python",
   "pygments_lexer": "ipython3",
   "version": "3.9.12"
  }
 },
 "nbformat": 4,
 "nbformat_minor": 5
}
