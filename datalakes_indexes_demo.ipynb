{
 "cells": [
  {
   "cell_type": "markdown",
   "id": "cff5a4e9",
   "metadata": {
    "pycharm": {
     "name": "#%% md\n"
    }
   },
   "source": [
    "___\n",
    "\n",
    "<h1 align=\"center\" style=font-size:52px>Demonstration of MATE and COCOA for Data Discovery</h1>\n",
    "<h1 align=\"center\" style=font-size:22px></h1>\n",
    "\n",
    "___\n",
    "\n",
    "<p align=\"center\" style=padding:50px>\n",
    "  <img src=\"datalake_indexes_qr.png\" width=160px/>\n",
    "</p>\n",
    "\n",
    "___"
   ]
  },
  {
   "cell_type": "markdown",
   "id": "9f86b0ed",
   "metadata": {
    "pycharm": {
     "name": "#%% md\n"
    }
   },
   "source": [
    "## Google Colab Setup\n",
    "\n",
    "Run this cell to setup the Google Colab environment for the demo."
   ]
  },
  {
   "cell_type": "code",
   "execution_count": 1,
   "id": "9a7f6c28",
   "metadata": {
    "pycharm": {
     "name": "#%%\n"
    }
   },
   "outputs": [],
   "source": [
    "#%cd /content\n",
    "#! git clone https://github.com/LUH-DBS/datalake_indexes\n",
    "#%cd datalake_indexes\n",
    "#! git pull\n",
    "#%pip install ."
   ]
  },
  {
   "cell_type": "markdown",
   "id": "75aa4d33",
   "metadata": {
    "pycharm": {
     "name": "#%% md\n"
    }
   },
   "source": [
    "## General Setup\n",
    "Now, we select one of the following datalakes for the demonstration:\n",
    "- GitTables\n",
    "- DWTC\n",
    "- German Open Data\n",
    "\n",
    "By removing the comment, we initialize a demo instance with the given data lake."
   ]
  },
  {
   "cell_type": "code",
   "execution_count": 1,
   "id": "7480f0a5",
   "metadata": {
    "pycharm": {
     "name": "#%%\n"
    }
   },
   "outputs": [],
   "source": [
    "from maco.demo.datalake_indexes_demo import DatalakeIndexesDemo\n",
    "import pandas as pd\n",
    "from IPython.display import display, HTML\n",
    "\n",
    "demo = DatalakeIndexesDemo(\"gittables\")\n",
    "# demo = DatalakeIndexesDemo(\"webtable\")\n",
    "# demo = DatalakeIndexesDemo(\"open_data\")"
   ]
  },
  {
   "cell_type": "markdown",
   "id": "adef9775",
   "metadata": {
    "pycharm": {
     "name": "#%% md\n"
    }
   },
   "source": [
    "___\n",
    "\n",
    "# 1) Input Preparation\n",
    "\n",
    "___\n",
    "\n",
    "## Reading the input dataset\n",
    "\n",
    "___"
   ]
  },
  {
   "cell_type": "code",
   "execution_count": 2,
   "id": "10141229",
   "metadata": {
    "pycharm": {
     "name": "#%%\n"
    }
   },
   "outputs": [
    {
     "data": {
      "text/html": [
       "<style type=\"text/css\">\n",
       "#T_ef66a_row0_col0, #T_ef66a_row0_col1, #T_ef66a_row1_col0, #T_ef66a_row1_col1, #T_ef66a_row2_col0, #T_ef66a_row2_col1, #T_ef66a_row3_col0, #T_ef66a_row3_col1, #T_ef66a_row4_col0, #T_ef66a_row4_col1 {\n",
       "  background-color: rgb(141, 229, 161);\n",
       "  color: #000;\n",
       "}\n",
       "#T_ef66a_row0_col2, #T_ef66a_row1_col2, #T_ef66a_row2_col2, #T_ef66a_row3_col2, #T_ef66a_row4_col2 {\n",
       "  background-color: rgb(250, 180, 130);\n",
       "  color: #000;\n",
       "}\n",
       "</style>\n",
       "<table id=\"T_ef66a\">\n",
       "  <thead>\n",
       "    <tr>\n",
       "      <th class=\"blank level0\" >&nbsp;</th>\n",
       "      <th id=\"T_ef66a_level0_col0\" class=\"col_heading level0 col0\" >Movie Title</th>\n",
       "      <th id=\"T_ef66a_level0_col1\" class=\"col_heading level0 col1\" >Director Name</th>\n",
       "      <th id=\"T_ef66a_level0_col2\" class=\"col_heading level0 col2\" >IMDB Score</th>\n",
       "    </tr>\n",
       "  </thead>\n",
       "  <tbody>\n",
       "    <tr>\n",
       "      <th id=\"T_ef66a_level0_row0\" class=\"row_heading level0 row0\" >0</th>\n",
       "      <td id=\"T_ef66a_row0_col0\" class=\"data row0 col0\" >Unleashed </td>\n",
       "      <td id=\"T_ef66a_row0_col1\" class=\"data row0 col1\" >Louis Leterrier</td>\n",
       "      <td id=\"T_ef66a_row0_col2\" class=\"data row0 col2\" >7.000000</td>\n",
       "    </tr>\n",
       "    <tr>\n",
       "      <th id=\"T_ef66a_level0_row1\" class=\"row_heading level0 row1\" >1</th>\n",
       "      <td id=\"T_ef66a_row1_col0\" class=\"data row1 col0\" >Vaalu </td>\n",
       "      <td id=\"T_ef66a_row1_col1\" class=\"data row1 col1\" >Vijay Chandar</td>\n",
       "      <td id=\"T_ef66a_row1_col2\" class=\"data row1 col2\" >5.100000</td>\n",
       "    </tr>\n",
       "    <tr>\n",
       "      <th id=\"T_ef66a_level0_row2\" class=\"row_heading level0 row2\" >2</th>\n",
       "      <td id=\"T_ef66a_row2_col0\" class=\"data row2 col0\" >The Da Vinci Code </td>\n",
       "      <td id=\"T_ef66a_row2_col1\" class=\"data row2 col1\" >Ron Howard</td>\n",
       "      <td id=\"T_ef66a_row2_col2\" class=\"data row2 col2\" >6.600000</td>\n",
       "    </tr>\n",
       "    <tr>\n",
       "      <th id=\"T_ef66a_level0_row3\" class=\"row_heading level0 row3\" >3</th>\n",
       "      <td id=\"T_ef66a_row3_col0\" class=\"data row3 col0\" >Midnight in Paris </td>\n",
       "      <td id=\"T_ef66a_row3_col1\" class=\"data row3 col1\" >Woody Allen</td>\n",
       "      <td id=\"T_ef66a_row3_col2\" class=\"data row3 col2\" >7.700000</td>\n",
       "    </tr>\n",
       "    <tr>\n",
       "      <th id=\"T_ef66a_level0_row4\" class=\"row_heading level0 row4\" >4</th>\n",
       "      <td id=\"T_ef66a_row4_col0\" class=\"data row4 col0\" >Why Did I Get Married Too? </td>\n",
       "      <td id=\"T_ef66a_row4_col1\" class=\"data row4 col1\" >Tyler Perry</td>\n",
       "      <td id=\"T_ef66a_row4_col2\" class=\"data row4 col2\" >4.400000</td>\n",
       "    </tr>\n",
       "  </tbody>\n",
       "</table>\n"
      ],
      "text/plain": [
       "<IPython.core.display.HTML object>"
      ]
     },
     "metadata": {},
     "output_type": "display_data"
    }
   ],
   "source": [
    "demo.load_dataset(\"movie\")"
   ]
  },
  {
   "cell_type": "markdown",
   "id": "da79bb9f",
   "metadata": {
    "pycharm": {
     "name": "#%% md\n"
    }
   },
   "source": [
    "___\n",
    "\n",
    "# 2) Joinability Discovery\n",
    "\n",
    "___\n",
    "\n",
    "## Finding the top-20 joinable tables using the Super Key Index and MATE\n",
    "\n",
    "___"
   ]
  },
  {
   "cell_type": "code",
   "execution_count": null,
   "id": "35a1cb4e",
   "metadata": {
    "pycharm": {
     "name": "#%%\n"
    }
   },
   "outputs": [
    {
     "name": "stdout",
     "output_type": "stream",
     "text": [
      "Preparing input dataset...\n",
      "Done.\n",
      "Fetching joinable tables based on first query column...\n"
     ]
    }
   ],
   "source": [
    "demo.joinability_discovery(\n",
    "    # number of tables to return\n",
    "    k=20,   \n",
    "    \n",
    "    # number of candidates to evaluate\n",
    "    k_c=200,  \n",
    "    \n",
    "    # minumum number of joinable rows per table\n",
    "    min_join_ratio=0,     \n",
    "    \n",
    "    # use the Super Key to filter irrelevant candidates\n",
    "    use_hash_optimization=True,  \n",
    "    \n",
    "    # use Bloom Filter to filter irrelevant candidates\n",
    "    use_bloom_filter=False,\n",
    "    \n",
    "    # calculate hash online instead of fetching Super Key from DB\n",
    "    online_hash_calculation=False\n",
    ")"
   ]
  },
  {
   "cell_type": "markdown",
   "id": "becaba8e",
   "metadata": {
    "pycharm": {
     "name": "#%% md\n"
    }
   },
   "source": [
    "___\n",
    "\n",
    "## Inspecting the joinability scores for the retrieved joinable tables\n",
    "\n",
    "___"
   ]
  },
  {
   "cell_type": "code",
   "execution_count": null,
   "id": "00a405df",
   "metadata": {
    "pycharm": {
     "name": "#%%\n"
    }
   },
   "outputs": [],
   "source": [
    "demo.plot_joinability_scores()"
   ]
  },
  {
   "cell_type": "markdown",
   "id": "03fbaaee",
   "metadata": {
    "pycharm": {
     "name": "#%% md\n"
    }
   },
   "source": [
    "___\n",
    "\n",
    "## Inspecting the joinable table with rank #1\n",
    "\n",
    "___"
   ]
  },
  {
   "cell_type": "code",
   "execution_count": null,
   "id": "9c469e27",
   "metadata": {
    "pycharm": {
     "name": "#%%\n"
    }
   },
   "outputs": [],
   "source": [
    "demo.display_joinable_table(3)"
   ]
  },
  {
   "cell_type": "markdown",
   "id": "92fea06e",
   "metadata": {
    "pycharm": {
     "name": "#%% md\n"
    }
   },
   "source": [
    "___\n",
    "\n",
    "# 3) Duplicate Detection using XASH\n",
    "\n",
    "___\n",
    "\n",
    "## Discovering duplicate tables and their relationship within the joinable tables\n",
    "___"
   ]
  },
  {
   "cell_type": "code",
   "execution_count": null,
   "id": "9dcdb016",
   "metadata": {
    "pycharm": {
     "name": "#%%\n"
    },
    "scrolled": false
   },
   "outputs": [],
   "source": [
    "#demo.duplicate_detection().show(\"./maco/demo/nb.html\")"
   ]
  },
  {
   "cell_type": "markdown",
   "id": "7d12b716",
   "metadata": {
    "pycharm": {
     "name": "#%% md\n"
    }
   },
   "source": [
    "___\n",
    "\n",
    "## Removing duplicates within the top joinable tables\n",
    "\n",
    "___"
   ]
  },
  {
   "cell_type": "code",
   "execution_count": null,
   "id": "a87512e9",
   "metadata": {
    "pycharm": {
     "name": "#%%\n"
    }
   },
   "outputs": [],
   "source": [
    "#demo.remove_duplicates()"
   ]
  },
  {
   "cell_type": "markdown",
   "id": "1c658b7f",
   "metadata": {
    "pycharm": {
     "name": "#%% md\n"
    }
   },
   "source": [
    "___\n",
    "\n",
    "# 4) Correlation Calculation\n",
    "\n",
    "___\n",
    "\n",
    "## Obtaining the top-10 correlating features using the Order Index and COCOA\n",
    "\n",
    "___"
   ]
  },
  {
   "cell_type": "code",
   "execution_count": 7,
   "id": "78e32ffd",
   "metadata": {
    "pycharm": {
     "name": "#%%\n"
    }
   },
   "outputs": [
    {
     "data": {
      "application/vnd.jupyter.widget-view+json": {
       "model_id": "47e7444983d7430c8982bd6cce06ddbc",
       "version_major": 2,
       "version_minor": 0
      },
      "text/plain": [
       "  0%|          | 0/20 [00:00<?, ?it/s]"
      ]
     },
     "metadata": {},
     "output_type": "display_data"
    },
    {
     "name": "stdout",
     "output_type": "stream",
     "text": [
      "--------------------------------------------\n",
      "Runtime:\n",
      "--------------------------------------------\n",
      "Total runtime: 1.39s\n",
      "Preparation runtime: 1.26s\n",
      "Correlation calculation runtime: 0.13s\n",
      "\n",
      "--------------------------------------------\n",
      "Statistics:\n",
      "--------------------------------------------\n",
      "Evaluated features: 92\n",
      "Max. correlation coefficient: 0.0270\n"
     ]
    }
   ],
   "source": [
    "demo.correlation_calculation(\n",
    "    # number of features to return\n",
    "    k_c=10,\n",
    "    \n",
    "    # calculate order index online instead of fetching it from the DB\n",
    "    online_index_generation=False\n",
    ")"
   ]
  },
  {
   "cell_type": "markdown",
   "id": "3714f75e",
   "metadata": {
    "pycharm": {
     "name": "#%% md\n"
    }
   },
   "source": [
    "___\n",
    "\n",
    "## Inspecting the correlation coefficients for the retrieved features\n",
    "\n",
    "___"
   ]
  },
  {
   "cell_type": "code",
   "execution_count": null,
   "id": "7ddc53b0",
   "metadata": {
    "pycharm": {
     "name": "#%%\n"
    }
   },
   "outputs": [],
   "source": [
    "#demo.plot_correlation_coefficients()"
   ]
  },
  {
   "cell_type": "markdown",
   "id": "c415b433",
   "metadata": {
    "pycharm": {
     "name": "#%% md\n"
    }
   },
   "source": [
    "___\n",
    "\n",
    "## Materializing join for the top 3 correlating features\n",
    "\n",
    "___"
   ]
  },
  {
   "cell_type": "code",
   "execution_count": null,
   "id": "c5139a0a",
   "metadata": {
    "pycharm": {
     "name": "#%%\n"
    }
   },
   "outputs": [],
   "source": [
    "demo.add_external_features([1, 2, 3])"
   ]
  },
  {
   "cell_type": "markdown",
   "id": "2f49b331",
   "metadata": {
    "pycharm": {
     "name": "#%% md\n"
    }
   },
   "source": [
    "___\n",
    "\n",
    "## Inspect differences between Spearman and Pearson correlation coefficients\n",
    "\n",
    "___"
   ]
  },
  {
   "cell_type": "code",
   "execution_count": null,
   "id": "d8449336",
   "metadata": {
    "pycharm": {
     "name": "#%%\n"
    }
   },
   "outputs": [],
   "source": [
    "#demo.plot_spearman_pearson()"
   ]
  },
  {
   "cell_type": "markdown",
   "id": "06fc9244",
   "metadata": {
    "pycharm": {
     "name": "#%% md\n"
    }
   },
   "source": [
    "___\n",
    "\n",
    "## Inspect correlation between input and top-correlating features\n",
    "\n",
    "___"
   ]
  },
  {
   "cell_type": "code",
   "execution_count": null,
   "id": "4cee4e86",
   "metadata": {
    "pycharm": {
     "name": "#%%\n"
    }
   },
   "outputs": [],
   "source": [
    "#demo.plot_correlation_heatmap()"
   ]
  },
  {
   "cell_type": "markdown",
   "id": "efd6cd44",
   "metadata": {
    "pycharm": {
     "name": "#%% md\n"
    }
   },
   "source": [
    "___\n",
    "\n",
    "## Compare RMSE of the model trained on the input and enriched dataset\n",
    "\n",
    "___"
   ]
  },
  {
   "cell_type": "code",
   "execution_count": null,
   "id": "44fa00ed",
   "metadata": {
    "pycharm": {
     "name": "#%%\n"
    },
    "scrolled": true
   },
   "outputs": [],
   "source": [
    "demo.fit_and_evaluate_model()"
   ]
  },
  {
   "cell_type": "code",
   "execution_count": null,
   "id": "f2cf2515",
   "metadata": {},
   "outputs": [],
   "source": []
  }
 ],
 "metadata": {
  "kernelspec": {
   "display_name": "Python 3 (ipykernel)",
   "language": "python",
   "name": "python3"
  },
  "language_info": {
   "codemirror_mode": {
    "name": "ipython",
    "version": 3
   },
   "file_extension": ".py",
   "mimetype": "text/x-python",
   "name": "python",
   "nbconvert_exporter": "python",
   "pygments_lexer": "ipython3",
   "version": "3.9.12"
  }
 },
 "nbformat": 4,
 "nbformat_minor": 5
}
