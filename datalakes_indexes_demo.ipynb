{
 "cells": [
  {
   "cell_type": "markdown",
   "id": "cff5a4e9",
   "metadata": {
    "pycharm": {
     "name": "#%% md\n"
    }
   },
   "source": [
    "___\n",
    "\n",
    "<h1 align=\"center\" style=font-size:52px>Demonstration of MATE and COCOA for Data Discovery</h1>\n",
    "<h1 align=\"center\" style=font-size:22px></h1>\n",
    "\n",
    "___\n",
    "\n",
    "<p align=\"center\" style=padding:50px>\n",
    "  <img src=\"datalake_indexes_qr.png\" width=160px/>\n",
    "</p>\n",
    "\n",
    "___"
   ]
  },
  {
   "cell_type": "markdown",
   "id": "9f86b0ed",
   "metadata": {
    "pycharm": {
     "name": "#%% md\n"
    }
   },
   "source": [
    "## Google Colab Setup\n",
    "\n",
    "Run this cell to setup the Google Colab environment for the demo."
   ]
  },
  {
   "cell_type": "code",
   "execution_count": 1,
   "id": "9a7f6c28",
   "metadata": {
    "pycharm": {
     "name": "#%%\n"
    }
   },
   "outputs": [],
   "source": [
    "#%cd /content\n",
    "#! git clone https://github.com/LUH-DBS/datalake_indexes\n",
    "#%cd datalake_indexes\n",
    "#! git pull\n",
    "#%pip install ."
   ]
  },
  {
   "cell_type": "markdown",
   "id": "75aa4d33",
   "metadata": {
    "pycharm": {
     "name": "#%% md\n"
    }
   },
   "source": [
    "## General Setup\n",
    "Now, we select one of the following datalakes for the demonstration:\n",
    "- GitTables\n",
    "- DWTC\n",
    "- German Open Data\n",
    "\n",
    "By removing the comment, we initialize a demo instance with the given data lake."
   ]
  },
  {
   "cell_type": "code",
   "execution_count": 2,
   "id": "7480f0a5",
   "metadata": {
    "pycharm": {
     "name": "#%%\n"
    }
   },
   "outputs": [],
   "source": [
    "from maco.demo.datalake_indexes_demo import DatalakeIndexesDemo\n",
    "import pandas as pd\n",
    "from IPython.display import display, HTML\n",
    "\n",
    "demo = DatalakeIndexesDemo(\"gittables\")\n",
    "# demo = DatalakeIndexesDemo(\"webtable\")\n",
    "# demo = DatalakeIndexesDemo(\"open_data\")"
   ]
  },
  {
   "cell_type": "markdown",
   "id": "adef9775",
   "metadata": {
    "pycharm": {
     "name": "#%% md\n"
    }
   },
   "source": [
    "___\n",
    "\n",
    "# 1) Input Preparation\n",
    "\n",
    "___\n",
    "\n",
    "## Reading the input dataset\n",
    "\n",
    "___"
   ]
  },
  {
   "cell_type": "code",
   "execution_count": 3,
   "id": "10141229",
   "metadata": {
    "pycharm": {
     "name": "#%%\n"
    }
   },
   "outputs": [
    {
     "data": {
      "text/html": [
       "<style type=\"text/css\">\n",
       "#T_f1bdf_row0_col0, #T_f1bdf_row1_col0, #T_f1bdf_row2_col0, #T_f1bdf_row3_col0, #T_f1bdf_row4_col0 {\n",
       "  background-color: rgb(141, 229, 161);\n",
       "  color: #000;\n",
       "}\n",
       "#T_f1bdf_row0_col2, #T_f1bdf_row1_col2, #T_f1bdf_row2_col2, #T_f1bdf_row3_col2, #T_f1bdf_row4_col2 {\n",
       "  background-color: rgb(250, 180, 130);\n",
       "  color: #000;\n",
       "}\n",
       "</style>\n",
       "<table id=\"T_f1bdf\">\n",
       "  <thead>\n",
       "    <tr>\n",
       "      <th class=\"blank level0\" >&nbsp;</th>\n",
       "      <th id=\"T_f1bdf_level0_col0\" class=\"col_heading level0 col0\" >Country</th>\n",
       "      <th id=\"T_f1bdf_level0_col1\" class=\"col_heading level0 col1\" >Year</th>\n",
       "      <th id=\"T_f1bdf_level0_col2\" class=\"col_heading level0 col2\" >Life expectancy</th>\n",
       "      <th id=\"T_f1bdf_level0_col3\" class=\"col_heading level0 col3\" >Adult Mortality</th>\n",
       "      <th id=\"T_f1bdf_level0_col4\" class=\"col_heading level0 col4\" >infant deaths</th>\n",
       "      <th id=\"T_f1bdf_level0_col5\" class=\"col_heading level0 col5\" >Alcohol</th>\n",
       "      <th id=\"T_f1bdf_level0_col6\" class=\"col_heading level0 col6\" >percentage expenditure</th>\n",
       "      <th id=\"T_f1bdf_level0_col7\" class=\"col_heading level0 col7\" >Hepatitis B</th>\n",
       "      <th id=\"T_f1bdf_level0_col8\" class=\"col_heading level0 col8\" >Measles</th>\n",
       "      <th id=\"T_f1bdf_level0_col9\" class=\"col_heading level0 col9\" >BMI</th>\n",
       "      <th id=\"T_f1bdf_level0_col10\" class=\"col_heading level0 col10\" >under-five deaths</th>\n",
       "      <th id=\"T_f1bdf_level0_col11\" class=\"col_heading level0 col11\" >Polio</th>\n",
       "      <th id=\"T_f1bdf_level0_col12\" class=\"col_heading level0 col12\" >Total expenditure</th>\n",
       "      <th id=\"T_f1bdf_level0_col13\" class=\"col_heading level0 col13\" >Diphtheria</th>\n",
       "      <th id=\"T_f1bdf_level0_col14\" class=\"col_heading level0 col14\" >HIV/AIDS</th>\n",
       "      <th id=\"T_f1bdf_level0_col15\" class=\"col_heading level0 col15\" >GDP</th>\n",
       "      <th id=\"T_f1bdf_level0_col16\" class=\"col_heading level0 col16\" >Population</th>\n",
       "      <th id=\"T_f1bdf_level0_col17\" class=\"col_heading level0 col17\" >thinness  1-19 years</th>\n",
       "      <th id=\"T_f1bdf_level0_col18\" class=\"col_heading level0 col18\" >thinness 5-9 years</th>\n",
       "      <th id=\"T_f1bdf_level0_col19\" class=\"col_heading level0 col19\" >Income composition of resources</th>\n",
       "      <th id=\"T_f1bdf_level0_col20\" class=\"col_heading level0 col20\" >Schooling</th>\n",
       "    </tr>\n",
       "  </thead>\n",
       "  <tbody>\n",
       "    <tr>\n",
       "      <th id=\"T_f1bdf_level0_row0\" class=\"row_heading level0 row0\" >0</th>\n",
       "      <td id=\"T_f1bdf_row0_col0\" class=\"data row0 col0\" >Afghanistan</td>\n",
       "      <td id=\"T_f1bdf_row0_col1\" class=\"data row0 col1\" >2007.500000</td>\n",
       "      <td id=\"T_f1bdf_row0_col2\" class=\"data row0 col2\" >58.193750</td>\n",
       "      <td id=\"T_f1bdf_row0_col3\" class=\"data row0 col3\" >269.062500</td>\n",
       "      <td id=\"T_f1bdf_row0_col4\" class=\"data row0 col4\" >78.250000</td>\n",
       "      <td id=\"T_f1bdf_row0_col5\" class=\"data row0 col5\" >0.014375</td>\n",
       "      <td id=\"T_f1bdf_row0_col6\" class=\"data row0 col6\" >34.960110</td>\n",
       "      <td id=\"T_f1bdf_row0_col7\" class=\"data row0 col7\" >64.562500</td>\n",
       "      <td id=\"T_f1bdf_row0_col8\" class=\"data row0 col8\" >2362.250000</td>\n",
       "      <td id=\"T_f1bdf_row0_col9\" class=\"data row0 col9\" >15.518750</td>\n",
       "      <td id=\"T_f1bdf_row0_col10\" class=\"data row0 col10\" >107.562500</td>\n",
       "      <td id=\"T_f1bdf_row0_col11\" class=\"data row0 col11\" >48.375000</td>\n",
       "      <td id=\"T_f1bdf_row0_col12\" class=\"data row0 col12\" >8.252500</td>\n",
       "      <td id=\"T_f1bdf_row0_col13\" class=\"data row0 col13\" >52.312500</td>\n",
       "      <td id=\"T_f1bdf_row0_col14\" class=\"data row0 col14\" >0.100000</td>\n",
       "      <td id=\"T_f1bdf_row0_col15\" class=\"data row0 col15\" >340.015425</td>\n",
       "      <td id=\"T_f1bdf_row0_col16\" class=\"data row0 col16\" >9972259.812500</td>\n",
       "      <td id=\"T_f1bdf_row0_col17\" class=\"data row0 col17\" >16.581250</td>\n",
       "      <td id=\"T_f1bdf_row0_col18\" class=\"data row0 col18\" >15.581250</td>\n",
       "      <td id=\"T_f1bdf_row0_col19\" class=\"data row0 col19\" >0.415375</td>\n",
       "      <td id=\"T_f1bdf_row0_col20\" class=\"data row0 col20\" >8.212500</td>\n",
       "    </tr>\n",
       "    <tr>\n",
       "      <th id=\"T_f1bdf_level0_row1\" class=\"row_heading level0 row1\" >1</th>\n",
       "      <td id=\"T_f1bdf_row1_col0\" class=\"data row1 col0\" >Albania</td>\n",
       "      <td id=\"T_f1bdf_row1_col1\" class=\"data row1 col1\" >2007.500000</td>\n",
       "      <td id=\"T_f1bdf_row1_col2\" class=\"data row1 col2\" >75.156250</td>\n",
       "      <td id=\"T_f1bdf_row1_col3\" class=\"data row1 col3\" >45.062500</td>\n",
       "      <td id=\"T_f1bdf_row1_col4\" class=\"data row1 col4\" >0.687500</td>\n",
       "      <td id=\"T_f1bdf_row1_col5\" class=\"data row1 col5\" >4.848750</td>\n",
       "      <td id=\"T_f1bdf_row1_col6\" class=\"data row1 col6\" >193.259091</td>\n",
       "      <td id=\"T_f1bdf_row1_col7\" class=\"data row1 col7\" >98.000000</td>\n",
       "      <td id=\"T_f1bdf_row1_col8\" class=\"data row1 col8\" >53.375000</td>\n",
       "      <td id=\"T_f1bdf_row1_col9\" class=\"data row1 col9\" >49.068750</td>\n",
       "      <td id=\"T_f1bdf_row1_col10\" class=\"data row1 col10\" >0.937500</td>\n",
       "      <td id=\"T_f1bdf_row1_col11\" class=\"data row1 col11\" >98.125000</td>\n",
       "      <td id=\"T_f1bdf_row1_col12\" class=\"data row1 col12\" >5.945625</td>\n",
       "      <td id=\"T_f1bdf_row1_col13\" class=\"data row1 col13\" >98.062500</td>\n",
       "      <td id=\"T_f1bdf_row1_col14\" class=\"data row1 col14\" >0.100000</td>\n",
       "      <td id=\"T_f1bdf_row1_col15\" class=\"data row1 col15\" >2119.726679</td>\n",
       "      <td id=\"T_f1bdf_row1_col16\" class=\"data row1 col16\" >696911.625000</td>\n",
       "      <td id=\"T_f1bdf_row1_col17\" class=\"data row1 col17\" >1.618750</td>\n",
       "      <td id=\"T_f1bdf_row1_col18\" class=\"data row1 col18\" >1.700000</td>\n",
       "      <td id=\"T_f1bdf_row1_col19\" class=\"data row1 col19\" >0.709875</td>\n",
       "      <td id=\"T_f1bdf_row1_col20\" class=\"data row1 col20\" >12.137500</td>\n",
       "    </tr>\n",
       "    <tr>\n",
       "      <th id=\"T_f1bdf_level0_row2\" class=\"row_heading level0 row2\" >2</th>\n",
       "      <td id=\"T_f1bdf_row2_col0\" class=\"data row2 col0\" >Algeria</td>\n",
       "      <td id=\"T_f1bdf_row2_col1\" class=\"data row2 col1\" >2007.500000</td>\n",
       "      <td id=\"T_f1bdf_row2_col2\" class=\"data row2 col2\" >73.618750</td>\n",
       "      <td id=\"T_f1bdf_row2_col3\" class=\"data row2 col3\" >108.187500</td>\n",
       "      <td id=\"T_f1bdf_row2_col4\" class=\"data row2 col4\" >20.312500</td>\n",
       "      <td id=\"T_f1bdf_row2_col5\" class=\"data row2 col5\" >0.668929</td>\n",
       "      <td id=\"T_f1bdf_row2_col6\" class=\"data row2 col6\" >236.185241</td>\n",
       "      <td id=\"T_f1bdf_row2_col7\" class=\"data row2 col7\" >78.735115</td>\n",
       "      <td id=\"T_f1bdf_row2_col8\" class=\"data row2 col8\" >1943.875000</td>\n",
       "      <td id=\"T_f1bdf_row2_col9\" class=\"data row2 col9\" >48.743750</td>\n",
       "      <td id=\"T_f1bdf_row2_col10\" class=\"data row2 col10\" >23.500000</td>\n",
       "      <td id=\"T_f1bdf_row2_col11\" class=\"data row2 col11\" >91.750000</td>\n",
       "      <td id=\"T_f1bdf_row2_col12\" class=\"data row2 col12\" >4.687387</td>\n",
       "      <td id=\"T_f1bdf_row2_col13\" class=\"data row2 col13\" >91.875000</td>\n",
       "      <td id=\"T_f1bdf_row2_col14\" class=\"data row2 col14\" >0.100000</td>\n",
       "      <td id=\"T_f1bdf_row2_col15\" class=\"data row2 col15\" >2847.853392</td>\n",
       "      <td id=\"T_f1bdf_row2_col16\" class=\"data row2 col16\" >21649827.437500</td>\n",
       "      <td id=\"T_f1bdf_row2_col17\" class=\"data row2 col17\" >6.093750</td>\n",
       "      <td id=\"T_f1bdf_row2_col18\" class=\"data row2 col18\" >5.975000</td>\n",
       "      <td id=\"T_f1bdf_row2_col19\" class=\"data row2 col19\" >0.694875</td>\n",
       "      <td id=\"T_f1bdf_row2_col20\" class=\"data row2 col20\" >12.712500</td>\n",
       "    </tr>\n",
       "    <tr>\n",
       "      <th id=\"T_f1bdf_level0_row3\" class=\"row_heading level0 row3\" >3</th>\n",
       "      <td id=\"T_f1bdf_row3_col0\" class=\"data row3 col0\" >Angola</td>\n",
       "      <td id=\"T_f1bdf_row3_col1\" class=\"data row3 col1\" >2007.500000</td>\n",
       "      <td id=\"T_f1bdf_row3_col2\" class=\"data row3 col2\" >49.018750</td>\n",
       "      <td id=\"T_f1bdf_row3_col3\" class=\"data row3 col3\" >328.562500</td>\n",
       "      <td id=\"T_f1bdf_row3_col4\" class=\"data row3 col4\" >83.750000</td>\n",
       "      <td id=\"T_f1bdf_row3_col5\" class=\"data row3 col5\" >5.669554</td>\n",
       "      <td id=\"T_f1bdf_row3_col6\" class=\"data row3 col6\" >102.100268</td>\n",
       "      <td id=\"T_f1bdf_row3_col7\" class=\"data row3 col7\" >74.911452</td>\n",
       "      <td id=\"T_f1bdf_row3_col8\" class=\"data row3 col8\" >3561.312500</td>\n",
       "      <td id=\"T_f1bdf_row3_col9\" class=\"data row3 col9\" >18.018750</td>\n",
       "      <td id=\"T_f1bdf_row3_col10\" class=\"data row3 col10\" >132.625000</td>\n",
       "      <td id=\"T_f1bdf_row3_col11\" class=\"data row3 col11\" >46.125000</td>\n",
       "      <td id=\"T_f1bdf_row3_col12\" class=\"data row3 col12\" >4.045512</td>\n",
       "      <td id=\"T_f1bdf_row3_col13\" class=\"data row3 col13\" >47.687500</td>\n",
       "      <td id=\"T_f1bdf_row3_col14\" class=\"data row3 col14\" >2.368750</td>\n",
       "      <td id=\"T_f1bdf_row3_col15\" class=\"data row3 col15\" >1975.143045</td>\n",
       "      <td id=\"T_f1bdf_row3_col16\" class=\"data row3 col16\" >10147099.187500</td>\n",
       "      <td id=\"T_f1bdf_row3_col17\" class=\"data row3 col17\" >6.193750</td>\n",
       "      <td id=\"T_f1bdf_row3_col18\" class=\"data row3 col18\" >6.668750</td>\n",
       "      <td id=\"T_f1bdf_row3_col19\" class=\"data row3 col19\" >0.458375</td>\n",
       "      <td id=\"T_f1bdf_row3_col20\" class=\"data row3 col20\" >8.043750</td>\n",
       "    </tr>\n",
       "    <tr>\n",
       "      <th id=\"T_f1bdf_level0_row4\" class=\"row_heading level0 row4\" >4</th>\n",
       "      <td id=\"T_f1bdf_row4_col0\" class=\"data row4 col0\" >Antigua and Barbuda</td>\n",
       "      <td id=\"T_f1bdf_row4_col1\" class=\"data row4 col1\" >2007.500000</td>\n",
       "      <td id=\"T_f1bdf_row4_col2\" class=\"data row4 col2\" >75.056250</td>\n",
       "      <td id=\"T_f1bdf_row4_col3\" class=\"data row4 col3\" >127.500000</td>\n",
       "      <td id=\"T_f1bdf_row4_col4\" class=\"data row4 col4\" >0.000000</td>\n",
       "      <td id=\"T_f1bdf_row4_col5\" class=\"data row4 col5\" >7.740179</td>\n",
       "      <td id=\"T_f1bdf_row4_col6\" class=\"data row4 col6\" >1001.585226</td>\n",
       "      <td id=\"T_f1bdf_row4_col7\" class=\"data row4 col7\" >97.183779</td>\n",
       "      <td id=\"T_f1bdf_row4_col8\" class=\"data row4 col8\" >0.000000</td>\n",
       "      <td id=\"T_f1bdf_row4_col9\" class=\"data row4 col9\" >38.425000</td>\n",
       "      <td id=\"T_f1bdf_row4_col10\" class=\"data row4 col10\" >0.000000</td>\n",
       "      <td id=\"T_f1bdf_row4_col11\" class=\"data row4 col11\" >96.937500</td>\n",
       "      <td id=\"T_f1bdf_row4_col12\" class=\"data row4 col12\" >4.863012</td>\n",
       "      <td id=\"T_f1bdf_row4_col13\" class=\"data row4 col13\" >98.312500</td>\n",
       "      <td id=\"T_f1bdf_row4_col14\" class=\"data row4 col14\" >0.125000</td>\n",
       "      <td id=\"T_f1bdf_row4_col15\" class=\"data row4 col15\" >9759.305728</td>\n",
       "      <td id=\"T_f1bdf_row4_col16\" class=\"data row4 col16\" >12753375.120052</td>\n",
       "      <td id=\"T_f1bdf_row4_col17\" class=\"data row4 col17\" >3.425000</td>\n",
       "      <td id=\"T_f1bdf_row4_col18\" class=\"data row4 col18\" >3.375000</td>\n",
       "      <td id=\"T_f1bdf_row4_col19\" class=\"data row4 col19\" >0.488625</td>\n",
       "      <td id=\"T_f1bdf_row4_col20\" class=\"data row4 col20\" >8.843750</td>\n",
       "    </tr>\n",
       "  </tbody>\n",
       "</table>\n"
      ],
      "text/plain": [
       "<IPython.core.display.HTML object>"
      ]
     },
     "metadata": {},
     "output_type": "display_data"
    }
   ],
   "source": [
    "demo.load_dataset(\"who\")"
   ]
  },
  {
   "cell_type": "markdown",
   "id": "da79bb9f",
   "metadata": {
    "pycharm": {
     "name": "#%% md\n"
    }
   },
   "source": [
    "___\n",
    "\n",
    "# 2) Joinability Discovery\n",
    "\n",
    "___\n",
    "\n",
    "## Finding the top-20 joinable tables using the Super Key Index and MATE\n",
    "\n",
    "___"
   ]
  },
  {
   "cell_type": "code",
   "execution_count": null,
   "id": "35a1cb4e",
   "metadata": {
    "pycharm": {
     "name": "#%%\n"
    }
   },
   "outputs": [
    {
     "name": "stdout",
     "output_type": "stream",
     "text": [
      "Preparing input dataset...\n",
      "Done.\n",
      "Fetching joinable tables based on first query column...\n",
      "Done.\n",
      "Running hash-based row filtering...\n"
     ]
    },
    {
     "data": {
      "application/vnd.jupyter.widget-view+json": {
       "model_id": "d6a5f6dbbe1644708583e1bd25d058e9",
       "version_major": 2,
       "version_minor": 0
      },
      "text/plain": [
       "  0%|          | 0/200 [00:00<?, ?it/s]"
      ]
     },
     "metadata": {},
     "output_type": "display_data"
    },
    {
     "name": "stdout",
     "output_type": "stream",
     "text": [
      "Done.\n",
      "Generating join maps...\n"
     ]
    }
   ],
   "source": [
    "demo.joinability_discovery(\n",
    "    # number of tables to return\n",
    "    k=20,   \n",
    "    \n",
    "    # number of candidates to evaluate\n",
    "    k_c=200,  \n",
    "    \n",
    "    # minumum number of joinable rows per table\n",
    "    min_join_ratio=0,     \n",
    "    \n",
    "    # use the Super Key to filter irrelevant candidates\n",
    "    use_hash_optimization=True,  \n",
    "    \n",
    "    # use Bloom Filter to filter irrelevant candidates\n",
    "    use_bloom_filter=False,\n",
    "    \n",
    "    # calculate hash online instead of fetching Super Key from DB\n",
    "    online_hash_calculation=False\n",
    ")"
   ]
  },
  {
   "cell_type": "markdown",
   "id": "becaba8e",
   "metadata": {
    "pycharm": {
     "name": "#%% md\n"
    }
   },
   "source": [
    "___\n",
    "\n",
    "## Inspecting the joinability scores for the retrieved joinable tables\n",
    "\n",
    "___"
   ]
  },
  {
   "cell_type": "code",
   "execution_count": null,
   "id": "00a405df",
   "metadata": {
    "pycharm": {
     "name": "#%%\n"
    }
   },
   "outputs": [],
   "source": [
    "#demo.plot_joinability_scores()"
   ]
  },
  {
   "cell_type": "markdown",
   "id": "03fbaaee",
   "metadata": {
    "pycharm": {
     "name": "#%% md\n"
    }
   },
   "source": [
    "___\n",
    "\n",
    "## Inspecting the joinable table with rank #1\n",
    "\n",
    "___"
   ]
  },
  {
   "cell_type": "code",
   "execution_count": null,
   "id": "9c469e27",
   "metadata": {
    "pycharm": {
     "name": "#%%\n"
    }
   },
   "outputs": [],
   "source": [
    "demo.display_joinable_table(3)"
   ]
  },
  {
   "cell_type": "markdown",
   "id": "92fea06e",
   "metadata": {
    "pycharm": {
     "name": "#%% md\n"
    }
   },
   "source": [
    "___\n",
    "\n",
    "# 3) Duplicate Detection using XASH\n",
    "\n",
    "___\n",
    "\n",
    "## Discovering duplicate tables and their relationship within the joinable tables\n",
    "___"
   ]
  },
  {
   "cell_type": "code",
   "execution_count": null,
   "id": "9dcdb016",
   "metadata": {
    "pycharm": {
     "name": "#%%\n"
    },
    "scrolled": false
   },
   "outputs": [],
   "source": [
    "#demo.duplicate_detection().show(\"./maco/demo/nb.html\")"
   ]
  },
  {
   "cell_type": "markdown",
   "id": "7d12b716",
   "metadata": {
    "pycharm": {
     "name": "#%% md\n"
    }
   },
   "source": [
    "___\n",
    "\n",
    "## Removing duplicates within the top joinable tables\n",
    "\n",
    "___"
   ]
  },
  {
   "cell_type": "code",
   "execution_count": null,
   "id": "a87512e9",
   "metadata": {
    "pycharm": {
     "name": "#%%\n"
    }
   },
   "outputs": [],
   "source": [
    "#demo.remove_duplicates()"
   ]
  },
  {
   "cell_type": "markdown",
   "id": "1c658b7f",
   "metadata": {
    "pycharm": {
     "name": "#%% md\n"
    }
   },
   "source": [
    "___\n",
    "\n",
    "# 4) Correlation Calculation\n",
    "\n",
    "___\n",
    "\n",
    "## Obtaining the top-10 correlating features using the Order Index and COCOA\n",
    "\n",
    "___"
   ]
  },
  {
   "cell_type": "code",
   "execution_count": null,
   "id": "78e32ffd",
   "metadata": {
    "pycharm": {
     "name": "#%%\n"
    }
   },
   "outputs": [],
   "source": [
    "demo.correlation_calculation(\n",
    "    # number of features to return\n",
    "    k_c=10,\n",
    "    \n",
    "    # calculate order index online instead of fetching it from the DB\n",
    "    online_index_generation=False\n",
    ")"
   ]
  },
  {
   "cell_type": "markdown",
   "id": "3714f75e",
   "metadata": {
    "pycharm": {
     "name": "#%% md\n"
    }
   },
   "source": [
    "___\n",
    "\n",
    "## Inspecting the correlation coefficients for the retrieved features\n",
    "\n",
    "___"
   ]
  },
  {
   "cell_type": "code",
   "execution_count": null,
   "id": "7ddc53b0",
   "metadata": {
    "pycharm": {
     "name": "#%%\n"
    }
   },
   "outputs": [],
   "source": [
    "#demo.plot_correlation_coefficients()"
   ]
  },
  {
   "cell_type": "markdown",
   "id": "c415b433",
   "metadata": {
    "pycharm": {
     "name": "#%% md\n"
    }
   },
   "source": [
    "___\n",
    "\n",
    "## Materializing join for the top 3 correlating features\n",
    "\n",
    "___"
   ]
  },
  {
   "cell_type": "code",
   "execution_count": null,
   "id": "c5139a0a",
   "metadata": {
    "pycharm": {
     "name": "#%%\n"
    }
   },
   "outputs": [],
   "source": [
    "demo.add_external_features([1, 2, 3])"
   ]
  },
  {
   "cell_type": "markdown",
   "id": "2f49b331",
   "metadata": {
    "pycharm": {
     "name": "#%% md\n"
    }
   },
   "source": [
    "___\n",
    "\n",
    "## Inspect differences between Spearman and Pearson correlation coefficients\n",
    "\n",
    "___"
   ]
  },
  {
   "cell_type": "code",
   "execution_count": null,
   "id": "d8449336",
   "metadata": {
    "pycharm": {
     "name": "#%%\n"
    }
   },
   "outputs": [],
   "source": [
    "#demo.plot_spearman_pearson()"
   ]
  },
  {
   "cell_type": "markdown",
   "id": "06fc9244",
   "metadata": {
    "pycharm": {
     "name": "#%% md\n"
    }
   },
   "source": [
    "___\n",
    "\n",
    "## Inspect correlation between input and top-correlating features\n",
    "\n",
    "___"
   ]
  },
  {
   "cell_type": "code",
   "execution_count": null,
   "id": "4cee4e86",
   "metadata": {
    "pycharm": {
     "name": "#%%\n"
    }
   },
   "outputs": [],
   "source": [
    "#demo.plot_correlation_heatmap()"
   ]
  },
  {
   "cell_type": "markdown",
   "id": "efd6cd44",
   "metadata": {
    "pycharm": {
     "name": "#%% md\n"
    }
   },
   "source": [
    "___\n",
    "\n",
    "## Compare RMSE of the model trained on the input and enriched dataset\n",
    "\n",
    "___"
   ]
  },
  {
   "cell_type": "code",
   "execution_count": null,
   "id": "44fa00ed",
   "metadata": {
    "pycharm": {
     "name": "#%%\n"
    },
    "scrolled": true
   },
   "outputs": [],
   "source": [
    "demo.fit_and_evaluate_model()"
   ]
  },
  {
   "cell_type": "code",
   "execution_count": null,
   "id": "f2cf2515",
   "metadata": {},
   "outputs": [],
   "source": []
  }
 ],
 "metadata": {
  "kernelspec": {
   "display_name": "Python 3 (ipykernel)",
   "language": "python",
   "name": "python3"
  },
  "language_info": {
   "codemirror_mode": {
    "name": "ipython",
    "version": 3
   },
   "file_extension": ".py",
   "mimetype": "text/x-python",
   "name": "python",
   "nbconvert_exporter": "python",
   "pygments_lexer": "ipython3",
   "version": "3.9.12"
  }
 },
 "nbformat": 4,
 "nbformat_minor": 5
}
