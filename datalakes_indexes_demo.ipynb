{
 "cells": [
  {
   "cell_type": "markdown",
   "id": "cff5a4e9",
   "metadata": {
    "pycharm": {
     "name": "#%% md\n"
    }
   },
   "source": [
    "___\n",
    "\n",
    "<h1 align=\"center\" style=font-size:52px>Demonstration of MATE and COCOA for Data Discovery</h1>\n",
    "<h1 align=\"center\" style=font-size:22px></h1>\n",
    "\n",
    "___\n",
    "\n",
    "<p align=\"center\" style=padding:50px>\n",
    "  <img src=\"datalake_indexes_qr.png\" width=160px/>\n",
    "</p>\n",
    "\n",
    "___"
   ]
  },
  {
   "cell_type": "markdown",
   "id": "9f86b0ed",
   "metadata": {
    "pycharm": {
     "name": "#%% md\n"
    }
   },
   "source": [
    "## Google Colab Setup\n",
    "\n",
    "Run this cell to setup the Google Colab environment for the demo."
   ]
  },
  {
   "cell_type": "code",
   "execution_count": null,
   "id": "9a7f6c28",
   "metadata": {
    "pycharm": {
     "name": "#%%\n"
    }
   },
   "outputs": [],
   "source": [
    "%cd /content\n",
    "! git clone https://github.com/LUH-DBS/datalake_indexes\n",
    "%cd datalake_indexes\n",
    "! git pull\n",
    "%pip install ."
   ]
  },
  {
   "cell_type": "markdown",
   "id": "75aa4d33",
   "metadata": {
    "pycharm": {
     "name": "#%% md\n"
    }
   },
   "source": [
    "## General Setup\n",
    "Now, we select one of the following datalakes for the demonstration:\n",
    "- GitTables\n",
    "- DWTC\n",
    "- German Open Data\n",
    "\n",
    "By removing the comment, we initialize a demo instance with the given data lake."
   ]
  },
  {
   "cell_type": "code",
   "execution_count": 11,
   "id": "7480f0a5",
   "metadata": {
    "pycharm": {
     "name": "#%%\n"
    }
   },
   "outputs": [],
   "source": [
    "from maco.demo.datalake_indexes_demo import DatalakeIndexesDemo\n",
    "import pandas as pd\n",
    "from IPython.display import display, HTML\n",
    "\n",
    "demo = DatalakeIndexesDemo(\"gittables\")\n",
    "# demo = DatalakeIndexesDemo(\"webtable\")\n",
    "# demo = DatalakeIndexesDemo(\"open_data\")"
   ]
  },
  {
   "cell_type": "markdown",
   "id": "205bef68",
   "metadata": {},
   "source": [
    "## General Setup\n",
    "Now, we select one of the following datalakes for the demonstration:\n",
    "- GitTables\n",
    "- DWTC\n",
    "- German Open Data\n",
    "\n",
    "By removing the comment, we initialize a demo instance with the given data lake."
   ]
  },
  {
   "cell_type": "code",
   "execution_count": 12,
   "id": "c0f31c58",
   "metadata": {
    "pycharm": {
     "name": "#%%\n"
    }
   },
   "outputs": [],
   "source": [
    "from maco.demo.datalake_indexes_demo import DatalakeIndexesDemo\n",
    "import pandas as pd\n",
    "from IPython.display import display, HTML\n",
    "\n",
    "demo = DatalakeIndexesDemo(\"gittables\")\n",
    "# demo = DatalakeIndexesDemo(\"webtable\")\n",
    "# demo = DatalakeIndexesDemo(\"open_data\")"
   ]
  },
  {
   "cell_type": "markdown",
   "id": "adef9775",
   "metadata": {
    "pycharm": {
     "name": "#%% md\n"
    }
   },
   "source": [
    "___\n",
    "\n",
    "# 1) Input Preparation\n",
    "\n",
    "___\n",
    "\n",
    "## Reading the input dataset\n",
    "\n",
    "___"
   ]
  },
  {
   "cell_type": "code",
   "execution_count": 13,
   "id": "10141229",
   "metadata": {
    "pycharm": {
     "name": "#%%\n"
    }
   },
   "outputs": [
    {
     "name": "stdout",
     "output_type": "stream",
     "text": [
      "Shape: (5000, 3)\n"
     ]
    },
    {
     "data": {
      "text/html": [
       "<table border=\"1\" class=\"dataframe\">\n",
       "  <thead>\n",
       "    <tr style=\"text-align: right;\">\n",
       "      <th></th>\n",
       "      <th>Movie Title</th>\n",
       "      <th>Director Name</th>\n",
       "      <th>IMDB Score</th>\n",
       "    </tr>\n",
       "  </thead>\n",
       "  <tbody>\n",
       "    <tr>\n",
       "      <th>0</th>\n",
       "      <td>Unleashed</td>\n",
       "      <td>Louis Leterrier</td>\n",
       "      <td>7.0</td>\n",
       "    </tr>\n",
       "    <tr>\n",
       "      <th>1</th>\n",
       "      <td>Vaalu</td>\n",
       "      <td>Vijay Chandar</td>\n",
       "      <td>5.1</td>\n",
       "    </tr>\n",
       "    <tr>\n",
       "      <th>2</th>\n",
       "      <td>The Da Vinci Code</td>\n",
       "      <td>Ron Howard</td>\n",
       "      <td>6.6</td>\n",
       "    </tr>\n",
       "    <tr>\n",
       "      <th>3</th>\n",
       "      <td>Midnight in Paris</td>\n",
       "      <td>Woody Allen</td>\n",
       "      <td>7.7</td>\n",
       "    </tr>\n",
       "    <tr>\n",
       "      <th>4</th>\n",
       "      <td>Why Did I Get Married Too?</td>\n",
       "      <td>Tyler Perry</td>\n",
       "      <td>4.4</td>\n",
       "    </tr>\n",
       "  </tbody>\n",
       "</table>"
      ],
      "text/plain": [
       "<IPython.core.display.HTML object>"
      ]
     },
     "metadata": {},
     "output_type": "display_data"
    }
   ],
   "source": [
    "demo.read_input(\"./datasets/movie.csv\")"
   ]
  },
  {
   "cell_type": "markdown",
   "id": "07734825",
   "metadata": {
    "pycharm": {
     "name": "#%% md\n"
    }
   },
   "source": [
    "___\n",
    "\n",
    "## Selecting the query and target columns for the joinability discovery\n",
    "\n",
    "___"
   ]
  },
  {
   "cell_type": "code",
   "execution_count": 14,
   "id": "f1f6862c",
   "metadata": {
    "pycharm": {
     "name": "#%%\n"
    }
   },
   "outputs": [
    {
     "data": {
      "text/html": [
       "<style type=\"text/css\">\n",
       "#T_bebb3_row0_col0, #T_bebb3_row0_col1, #T_bebb3_row1_col0, #T_bebb3_row1_col1, #T_bebb3_row2_col0, #T_bebb3_row2_col1, #T_bebb3_row3_col0, #T_bebb3_row3_col1, #T_bebb3_row4_col0, #T_bebb3_row4_col1 {\n",
       "  background-color: rgb(141, 229, 161);\n",
       "  color: #000;\n",
       "}\n",
       "#T_bebb3_row0_col2, #T_bebb3_row1_col2, #T_bebb3_row2_col2, #T_bebb3_row3_col2, #T_bebb3_row4_col2 {\n",
       "  background-color: rgb(250, 180, 130);\n",
       "  color: #000;\n",
       "}\n",
       "</style>\n",
       "<table id=\"T_bebb3\">\n",
       "  <thead>\n",
       "    <tr>\n",
       "      <th class=\"blank level0\" >&nbsp;</th>\n",
       "      <th id=\"T_bebb3_level0_col0\" class=\"col_heading level0 col0\" >Movie Title</th>\n",
       "      <th id=\"T_bebb3_level0_col1\" class=\"col_heading level0 col1\" >Director Name</th>\n",
       "      <th id=\"T_bebb3_level0_col2\" class=\"col_heading level0 col2\" >IMDB Score</th>\n",
       "    </tr>\n",
       "  </thead>\n",
       "  <tbody>\n",
       "    <tr>\n",
       "      <th id=\"T_bebb3_level0_row0\" class=\"row_heading level0 row0\" >0</th>\n",
       "      <td id=\"T_bebb3_row0_col0\" class=\"data row0 col0\" >Unleashed </td>\n",
       "      <td id=\"T_bebb3_row0_col1\" class=\"data row0 col1\" >Louis Leterrier</td>\n",
       "      <td id=\"T_bebb3_row0_col2\" class=\"data row0 col2\" >7.0</td>\n",
       "    </tr>\n",
       "    <tr>\n",
       "      <th id=\"T_bebb3_level0_row1\" class=\"row_heading level0 row1\" >1</th>\n",
       "      <td id=\"T_bebb3_row1_col0\" class=\"data row1 col0\" >Vaalu </td>\n",
       "      <td id=\"T_bebb3_row1_col1\" class=\"data row1 col1\" >Vijay Chandar</td>\n",
       "      <td id=\"T_bebb3_row1_col2\" class=\"data row1 col2\" >5.1</td>\n",
       "    </tr>\n",
       "    <tr>\n",
       "      <th id=\"T_bebb3_level0_row2\" class=\"row_heading level0 row2\" >2</th>\n",
       "      <td id=\"T_bebb3_row2_col0\" class=\"data row2 col0\" >The Da Vinci Code </td>\n",
       "      <td id=\"T_bebb3_row2_col1\" class=\"data row2 col1\" >Ron Howard</td>\n",
       "      <td id=\"T_bebb3_row2_col2\" class=\"data row2 col2\" >6.6</td>\n",
       "    </tr>\n",
       "    <tr>\n",
       "      <th id=\"T_bebb3_level0_row3\" class=\"row_heading level0 row3\" >3</th>\n",
       "      <td id=\"T_bebb3_row3_col0\" class=\"data row3 col0\" >Midnight in Paris </td>\n",
       "      <td id=\"T_bebb3_row3_col1\" class=\"data row3 col1\" >Woody Allen</td>\n",
       "      <td id=\"T_bebb3_row3_col2\" class=\"data row3 col2\" >7.7</td>\n",
       "    </tr>\n",
       "    <tr>\n",
       "      <th id=\"T_bebb3_level0_row4\" class=\"row_heading level0 row4\" >4</th>\n",
       "      <td id=\"T_bebb3_row4_col0\" class=\"data row4 col0\" >Why Did I Get Married Too? </td>\n",
       "      <td id=\"T_bebb3_row4_col1\" class=\"data row4 col1\" >Tyler Perry</td>\n",
       "      <td id=\"T_bebb3_row4_col2\" class=\"data row4 col2\" >4.4</td>\n",
       "    </tr>\n",
       "  </tbody>\n",
       "</table>\n"
      ],
      "text/plain": [
       "<IPython.core.display.HTML object>"
      ]
     },
     "metadata": {},
     "output_type": "display_data"
    },
    {
     "data": {
      "image/png": "[encoded data removed]",
      "text/plain": [
       "<Figure size 360x288 with 1 Axes>"
      ]
     },
     "metadata": {},
     "output_type": "display_data"
    }
   ],
   "source": [
    "demo.set_query_columns([\"Director Name\", \"Movie Title\"])\n",
    "demo.set_target_column(\"IMDB Score\")\n",
    "\n",
    "demo.fit_and_evaluate_model(only_input=True)"
   ]
  },
  {
   "cell_type": "markdown",
   "id": "da79bb9f",
   "metadata": {
    "pycharm": {
     "name": "#%% md\n"
    }
   },
   "source": [
    "___\n",
    "\n",
    "# 2) Joinability Discovery\n",
    "\n",
    "___\n",
    "\n",
    "## Finding the top-20 joinable tables using the Super Key Index and MATE\n",
    "\n",
    "___"
   ]
  },
  {
   "cell_type": "code",
   "execution_count": 15,
   "id": "35a1cb4e",
   "metadata": {
    "pycharm": {
     "name": "#%%\n"
    }
   },
   "outputs": [
    {
     "name": "stdout",
     "output_type": "stream",
     "text": [
      "Preparing input dataset...\n",
      "Done.\n",
      "Fetching joinable tables based on first query column...\n",
      "Done.\n",
      "Running hash-based row filtering...\n"
     ]
    },
    {
     "data": {
      "application/vnd.jupyter.widget-view+json": {
       "model_id": "afdabaf5009f451a83cfe0a9718c2c23",
       "version_major": 2,
       "version_minor": 0
      },
      "text/plain": [
       "  0%|          | 0/5000 [00:00<?, ?it/s]"
      ]
     },
     "metadata": {},
     "output_type": "display_data"
    },
    {
     "name": "stdout",
     "output_type": "stream",
     "text": [
      "Done.\n",
      "Generating join maps...\n",
      "Done.\n",
      "--------------------------------------------\n",
      "Runtime:\n",
      "--------------------------------------------\n",
      "Fetching candidate tables: 0.16s\n",
      "MATE filtering:            10.99s\n",
      "Fetching row values:       9.71s\n",
      "\n",
      "--------------------------------------------\n",
      "Statistics:\n",
      "--------------------------------------------\n",
      "Hash-based filtered rows:  114062\n",
      "Hash-based approved rows:  25814\n",
      "Matching rows:             24889\n",
      "FP rows:                   925\n",
      "Precision:                 0.964\n"
     ]
    }
   ],
   "source": [
    "demo.joinability_discovery(k=20, k_c=5000, verbose=True)"
   ]
  },
  {
   "cell_type": "markdown",
   "id": "becaba8e",
   "metadata": {
    "pycharm": {
     "name": "#%% md\n"
    }
   },
   "source": [
    "___\n",
    "\n",
    "## Inspecting the joinability scores for the retrieved joinable tables\n",
    "\n",
    "___"
   ]
  },
  {
   "cell_type": "code",
   "execution_count": 16,
   "id": "00a405df",
   "metadata": {
    "pycharm": {
     "name": "#%%\n"
    }
   },
   "outputs": [
    {
     "data": {
      "image/png": "[encoded data removed]",
      "text/plain": [
       "<Figure size 576x216 with 1 Axes>"
      ]
     },
     "metadata": {},
     "output_type": "display_data"
    }
   ],
   "source": [
    "demo.plot_joinability_scores()"
   ]
  },
  {
   "cell_type": "markdown",
   "id": "03fbaaee",
   "metadata": {
    "pycharm": {
     "name": "#%% md\n"
    }
   },
   "source": [
    "___\n",
    "\n",
    "## Inspecting the joinable table with rank #1\n",
    "\n",
    "___"
   ]
  },
  {
   "cell_type": "code",
   "execution_count": 17,
   "id": "9c469e27",
   "metadata": {
    "pycharm": {
     "name": "#%%\n"
    }
   },
   "outputs": [
    {
     "name": "stdout",
     "output_type": "stream",
     "text": [
      "Joinability score: 2914 \n",
      "Table ID: 1003141 \n",
      "#rows: 3000 \n",
      "#columns: 28 \n"
     ]
    },
    {
     "data": {
      "text/html": [
       "<style type=\"text/css\">\n",
       "#T_66bd0_row0_col1, #T_66bd0_row0_col11, #T_66bd0_row2_col1, #T_66bd0_row2_col11, #T_66bd0_row3_col1, #T_66bd0_row3_col11, #T_66bd0_row4_col1, #T_66bd0_row4_col11 {\n",
       "  background-color: rgb(141, 229, 161);\n",
       "  color: #000;\n",
       "}\n",
       "</style>\n",
       "<table id=\"T_66bd0\">\n",
       "  <thead>\n",
       "    <tr>\n",
       "      <th class=\"blank level0\" >&nbsp;</th>\n",
       "      <th id=\"T_66bd0_level0_col0\" class=\"col_heading level0 col0\" >color</th>\n",
       "      <th id=\"T_66bd0_level0_col1\" class=\"col_heading level0 col1\" >director_name</th>\n",
       "      <th id=\"T_66bd0_level0_col2\" class=\"col_heading level0 col2\" >num_critic_for_reviews</th>\n",
       "      <th id=\"T_66bd0_level0_col3\" class=\"col_heading level0 col3\" >duration</th>\n",
       "      <th id=\"T_66bd0_level0_col4\" class=\"col_heading level0 col4\" >director_facebook_likes</th>\n",
       "      <th id=\"T_66bd0_level0_col5\" class=\"col_heading level0 col5\" >actor_3_facebook_likes</th>\n",
       "      <th id=\"T_66bd0_level0_col6\" class=\"col_heading level0 col6\" >actor_2_name</th>\n",
       "      <th id=\"T_66bd0_level0_col7\" class=\"col_heading level0 col7\" >actor_1_facebook_likes</th>\n",
       "      <th id=\"T_66bd0_level0_col8\" class=\"col_heading level0 col8\" >gross</th>\n",
       "      <th id=\"T_66bd0_level0_col9\" class=\"col_heading level0 col9\" >genres</th>\n",
       "      <th id=\"T_66bd0_level0_col10\" class=\"col_heading level0 col10\" >actor_1_name</th>\n",
       "      <th id=\"T_66bd0_level0_col11\" class=\"col_heading level0 col11\" >movie_title</th>\n",
       "      <th id=\"T_66bd0_level0_col12\" class=\"col_heading level0 col12\" >num_voted_users</th>\n",
       "      <th id=\"T_66bd0_level0_col13\" class=\"col_heading level0 col13\" >cast_total_facebook_likes</th>\n",
       "      <th id=\"T_66bd0_level0_col14\" class=\"col_heading level0 col14\" >actor_3_name</th>\n",
       "      <th id=\"T_66bd0_level0_col15\" class=\"col_heading level0 col15\" >facenumber_in_poster</th>\n",
       "      <th id=\"T_66bd0_level0_col16\" class=\"col_heading level0 col16\" >plot_keywords</th>\n",
       "      <th id=\"T_66bd0_level0_col17\" class=\"col_heading level0 col17\" >movie_imdb_link</th>\n",
       "      <th id=\"T_66bd0_level0_col18\" class=\"col_heading level0 col18\" >num_user_for_reviews</th>\n",
       "      <th id=\"T_66bd0_level0_col19\" class=\"col_heading level0 col19\" >language</th>\n",
       "      <th id=\"T_66bd0_level0_col20\" class=\"col_heading level0 col20\" >country</th>\n",
       "      <th id=\"T_66bd0_level0_col21\" class=\"col_heading level0 col21\" >content_rating</th>\n",
       "      <th id=\"T_66bd0_level0_col22\" class=\"col_heading level0 col22\" >budget</th>\n",
       "      <th id=\"T_66bd0_level0_col23\" class=\"col_heading level0 col23\" >title_year</th>\n",
       "      <th id=\"T_66bd0_level0_col24\" class=\"col_heading level0 col24\" >actor_2_facebook_likes</th>\n",
       "      <th id=\"T_66bd0_level0_col25\" class=\"col_heading level0 col25\" >imdb_score</th>\n",
       "      <th id=\"T_66bd0_level0_col26\" class=\"col_heading level0 col26\" >aspect_ratio</th>\n",
       "      <th id=\"T_66bd0_level0_col27\" class=\"col_heading level0 col27\" >movie_facebook_likes</th>\n",
       "    </tr>\n",
       "  </thead>\n",
       "  <tbody>\n",
       "    <tr>\n",
       "      <th id=\"T_66bd0_level0_row0\" class=\"row_heading level0 row0\" >0</th>\n",
       "      <td id=\"T_66bd0_row0_col0\" class=\"data row0 col0\" >color</td>\n",
       "      <td id=\"T_66bd0_row0_col1\" class=\"data row0 col1\" >james cameron</td>\n",
       "      <td id=\"T_66bd0_row0_col2\" class=\"data row0 col2\" >723</td>\n",
       "      <td id=\"T_66bd0_row0_col3\" class=\"data row0 col3\" >178</td>\n",
       "      <td id=\"T_66bd0_row0_col4\" class=\"data row0 col4\" >0</td>\n",
       "      <td id=\"T_66bd0_row0_col5\" class=\"data row0 col5\" >855</td>\n",
       "      <td id=\"T_66bd0_row0_col6\" class=\"data row0 col6\" >joel david moore</td>\n",
       "      <td id=\"T_66bd0_row0_col7\" class=\"data row0 col7\" >1000</td>\n",
       "      <td id=\"T_66bd0_row0_col8\" class=\"data row0 col8\" >760505847</td>\n",
       "      <td id=\"T_66bd0_row0_col9\" class=\"data row0 col9\" >action adventure fantasy sci fi</td>\n",
       "      <td id=\"T_66bd0_row0_col10\" class=\"data row0 col10\" >cch pounder</td>\n",
       "      <td id=\"T_66bd0_row0_col11\" class=\"data row0 col11\" >avatar</td>\n",
       "      <td id=\"T_66bd0_row0_col12\" class=\"data row0 col12\" >886204</td>\n",
       "      <td id=\"T_66bd0_row0_col13\" class=\"data row0 col13\" >4834</td>\n",
       "      <td id=\"T_66bd0_row0_col14\" class=\"data row0 col14\" >wes studi</td>\n",
       "      <td id=\"T_66bd0_row0_col15\" class=\"data row0 col15\" >0</td>\n",
       "      <td id=\"T_66bd0_row0_col16\" class=\"data row0 col16\" >avatar future marine native paraplegic</td>\n",
       "      <td id=\"T_66bd0_row0_col17\" class=\"data row0 col17\" >http www imdb com title tt0499549 ref fn tt tt 1</td>\n",
       "      <td id=\"T_66bd0_row0_col18\" class=\"data row0 col18\" >3054</td>\n",
       "      <td id=\"T_66bd0_row0_col19\" class=\"data row0 col19\" >english</td>\n",
       "      <td id=\"T_66bd0_row0_col20\" class=\"data row0 col20\" >usa</td>\n",
       "      <td id=\"T_66bd0_row0_col21\" class=\"data row0 col21\" >pg 13</td>\n",
       "      <td id=\"T_66bd0_row0_col22\" class=\"data row0 col22\" >237000000</td>\n",
       "      <td id=\"T_66bd0_row0_col23\" class=\"data row0 col23\" >2009</td>\n",
       "      <td id=\"T_66bd0_row0_col24\" class=\"data row0 col24\" >936</td>\n",
       "      <td id=\"T_66bd0_row0_col25\" class=\"data row0 col25\" >7 9</td>\n",
       "      <td id=\"T_66bd0_row0_col26\" class=\"data row0 col26\" >1 78</td>\n",
       "      <td id=\"T_66bd0_row0_col27\" class=\"data row0 col27\" >33000</td>\n",
       "    </tr>\n",
       "    <tr>\n",
       "      <th id=\"T_66bd0_level0_row1\" class=\"row_heading level0 row1\" >1</th>\n",
       "      <td id=\"T_66bd0_row1_col0\" class=\"data row1 col0\" >color</td>\n",
       "      <td id=\"T_66bd0_row1_col1\" class=\"data row1 col1\" >gore verbinski</td>\n",
       "      <td id=\"T_66bd0_row1_col2\" class=\"data row1 col2\" >302</td>\n",
       "      <td id=\"T_66bd0_row1_col3\" class=\"data row1 col3\" >169</td>\n",
       "      <td id=\"T_66bd0_row1_col4\" class=\"data row1 col4\" >563</td>\n",
       "      <td id=\"T_66bd0_row1_col5\" class=\"data row1 col5\" >1000</td>\n",
       "      <td id=\"T_66bd0_row1_col6\" class=\"data row1 col6\" >orlando bloom</td>\n",
       "      <td id=\"T_66bd0_row1_col7\" class=\"data row1 col7\" >40000</td>\n",
       "      <td id=\"T_66bd0_row1_col8\" class=\"data row1 col8\" >309404152</td>\n",
       "      <td id=\"T_66bd0_row1_col9\" class=\"data row1 col9\" >action adventure fantasy</td>\n",
       "      <td id=\"T_66bd0_row1_col10\" class=\"data row1 col10\" >johnny depp</td>\n",
       "      <td id=\"T_66bd0_row1_col11\" class=\"data row1 col11\" >pirates caribbean world s end</td>\n",
       "      <td id=\"T_66bd0_row1_col12\" class=\"data row1 col12\" >471220</td>\n",
       "      <td id=\"T_66bd0_row1_col13\" class=\"data row1 col13\" >48350</td>\n",
       "      <td id=\"T_66bd0_row1_col14\" class=\"data row1 col14\" >jack davenport</td>\n",
       "      <td id=\"T_66bd0_row1_col15\" class=\"data row1 col15\" >0</td>\n",
       "      <td id=\"T_66bd0_row1_col16\" class=\"data row1 col16\" >goddess marriage ceremony marriage proposal pirate singapore</td>\n",
       "      <td id=\"T_66bd0_row1_col17\" class=\"data row1 col17\" >http www imdb com title tt0449088 ref fn tt tt 1</td>\n",
       "      <td id=\"T_66bd0_row1_col18\" class=\"data row1 col18\" >1238</td>\n",
       "      <td id=\"T_66bd0_row1_col19\" class=\"data row1 col19\" >english</td>\n",
       "      <td id=\"T_66bd0_row1_col20\" class=\"data row1 col20\" >usa</td>\n",
       "      <td id=\"T_66bd0_row1_col21\" class=\"data row1 col21\" >pg 13</td>\n",
       "      <td id=\"T_66bd0_row1_col22\" class=\"data row1 col22\" >300000000</td>\n",
       "      <td id=\"T_66bd0_row1_col23\" class=\"data row1 col23\" >2007</td>\n",
       "      <td id=\"T_66bd0_row1_col24\" class=\"data row1 col24\" >5000</td>\n",
       "      <td id=\"T_66bd0_row1_col25\" class=\"data row1 col25\" >7 1</td>\n",
       "      <td id=\"T_66bd0_row1_col26\" class=\"data row1 col26\" >2 35</td>\n",
       "      <td id=\"T_66bd0_row1_col27\" class=\"data row1 col27\" >0</td>\n",
       "    </tr>\n",
       "    <tr>\n",
       "      <th id=\"T_66bd0_level0_row2\" class=\"row_heading level0 row2\" >2</th>\n",
       "      <td id=\"T_66bd0_row2_col0\" class=\"data row2 col0\" >color</td>\n",
       "      <td id=\"T_66bd0_row2_col1\" class=\"data row2 col1\" >sam mendes</td>\n",
       "      <td id=\"T_66bd0_row2_col2\" class=\"data row2 col2\" >602</td>\n",
       "      <td id=\"T_66bd0_row2_col3\" class=\"data row2 col3\" >148</td>\n",
       "      <td id=\"T_66bd0_row2_col4\" class=\"data row2 col4\" >0</td>\n",
       "      <td id=\"T_66bd0_row2_col5\" class=\"data row2 col5\" >161</td>\n",
       "      <td id=\"T_66bd0_row2_col6\" class=\"data row2 col6\" >rory kinnear</td>\n",
       "      <td id=\"T_66bd0_row2_col7\" class=\"data row2 col7\" >11000</td>\n",
       "      <td id=\"T_66bd0_row2_col8\" class=\"data row2 col8\" >200074175</td>\n",
       "      <td id=\"T_66bd0_row2_col9\" class=\"data row2 col9\" >action adventure thriller</td>\n",
       "      <td id=\"T_66bd0_row2_col10\" class=\"data row2 col10\" >christoph waltz</td>\n",
       "      <td id=\"T_66bd0_row2_col11\" class=\"data row2 col11\" >spectre</td>\n",
       "      <td id=\"T_66bd0_row2_col12\" class=\"data row2 col12\" >275868</td>\n",
       "      <td id=\"T_66bd0_row2_col13\" class=\"data row2 col13\" >11700</td>\n",
       "      <td id=\"T_66bd0_row2_col14\" class=\"data row2 col14\" >stephanie sigman</td>\n",
       "      <td id=\"T_66bd0_row2_col15\" class=\"data row2 col15\" >1</td>\n",
       "      <td id=\"T_66bd0_row2_col16\" class=\"data row2 col16\" >bomb espionage sequel spy terrorist</td>\n",
       "      <td id=\"T_66bd0_row2_col17\" class=\"data row2 col17\" >http www imdb com title tt2379713 ref fn tt tt 1</td>\n",
       "      <td id=\"T_66bd0_row2_col18\" class=\"data row2 col18\" >994</td>\n",
       "      <td id=\"T_66bd0_row2_col19\" class=\"data row2 col19\" >english</td>\n",
       "      <td id=\"T_66bd0_row2_col20\" class=\"data row2 col20\" >uk</td>\n",
       "      <td id=\"T_66bd0_row2_col21\" class=\"data row2 col21\" >pg 13</td>\n",
       "      <td id=\"T_66bd0_row2_col22\" class=\"data row2 col22\" >245000000</td>\n",
       "      <td id=\"T_66bd0_row2_col23\" class=\"data row2 col23\" >2015</td>\n",
       "      <td id=\"T_66bd0_row2_col24\" class=\"data row2 col24\" >393</td>\n",
       "      <td id=\"T_66bd0_row2_col25\" class=\"data row2 col25\" >6 8</td>\n",
       "      <td id=\"T_66bd0_row2_col26\" class=\"data row2 col26\" >2 35</td>\n",
       "      <td id=\"T_66bd0_row2_col27\" class=\"data row2 col27\" >85000</td>\n",
       "    </tr>\n",
       "    <tr>\n",
       "      <th id=\"T_66bd0_level0_row3\" class=\"row_heading level0 row3\" >3</th>\n",
       "      <td id=\"T_66bd0_row3_col0\" class=\"data row3 col0\" >color</td>\n",
       "      <td id=\"T_66bd0_row3_col1\" class=\"data row3 col1\" >christopher nolan</td>\n",
       "      <td id=\"T_66bd0_row3_col2\" class=\"data row3 col2\" >813</td>\n",
       "      <td id=\"T_66bd0_row3_col3\" class=\"data row3 col3\" >164</td>\n",
       "      <td id=\"T_66bd0_row3_col4\" class=\"data row3 col4\" >22000</td>\n",
       "      <td id=\"T_66bd0_row3_col5\" class=\"data row3 col5\" >23000</td>\n",
       "      <td id=\"T_66bd0_row3_col6\" class=\"data row3 col6\" >christian bale</td>\n",
       "      <td id=\"T_66bd0_row3_col7\" class=\"data row3 col7\" >27000</td>\n",
       "      <td id=\"T_66bd0_row3_col8\" class=\"data row3 col8\" >448130642</td>\n",
       "      <td id=\"T_66bd0_row3_col9\" class=\"data row3 col9\" >action thriller</td>\n",
       "      <td id=\"T_66bd0_row3_col10\" class=\"data row3 col10\" >tom hardy</td>\n",
       "      <td id=\"T_66bd0_row3_col11\" class=\"data row3 col11\" >dark knight rises</td>\n",
       "      <td id=\"T_66bd0_row3_col12\" class=\"data row3 col12\" >1144337</td>\n",
       "      <td id=\"T_66bd0_row3_col13\" class=\"data row3 col13\" >106759</td>\n",
       "      <td id=\"T_66bd0_row3_col14\" class=\"data row3 col14\" >joseph gordon levitt</td>\n",
       "      <td id=\"T_66bd0_row3_col15\" class=\"data row3 col15\" >0</td>\n",
       "      <td id=\"T_66bd0_row3_col16\" class=\"data row3 col16\" >deception imprisonment lawlessness police officer terrorist plot</td>\n",
       "      <td id=\"T_66bd0_row3_col17\" class=\"data row3 col17\" >http www imdb com title tt1345836 ref fn tt tt 1</td>\n",
       "      <td id=\"T_66bd0_row3_col18\" class=\"data row3 col18\" >2701</td>\n",
       "      <td id=\"T_66bd0_row3_col19\" class=\"data row3 col19\" >english</td>\n",
       "      <td id=\"T_66bd0_row3_col20\" class=\"data row3 col20\" >usa</td>\n",
       "      <td id=\"T_66bd0_row3_col21\" class=\"data row3 col21\" >pg 13</td>\n",
       "      <td id=\"T_66bd0_row3_col22\" class=\"data row3 col22\" >250000000</td>\n",
       "      <td id=\"T_66bd0_row3_col23\" class=\"data row3 col23\" >2012</td>\n",
       "      <td id=\"T_66bd0_row3_col24\" class=\"data row3 col24\" >23000</td>\n",
       "      <td id=\"T_66bd0_row3_col25\" class=\"data row3 col25\" >8 5</td>\n",
       "      <td id=\"T_66bd0_row3_col26\" class=\"data row3 col26\" >2 35</td>\n",
       "      <td id=\"T_66bd0_row3_col27\" class=\"data row3 col27\" >164000</td>\n",
       "    </tr>\n",
       "    <tr>\n",
       "      <th id=\"T_66bd0_level0_row4\" class=\"row_heading level0 row4\" >4</th>\n",
       "      <td id=\"T_66bd0_row4_col0\" class=\"data row4 col0\" >color</td>\n",
       "      <td id=\"T_66bd0_row4_col1\" class=\"data row4 col1\" >andrew stanton</td>\n",
       "      <td id=\"T_66bd0_row4_col2\" class=\"data row4 col2\" >462</td>\n",
       "      <td id=\"T_66bd0_row4_col3\" class=\"data row4 col3\" >132</td>\n",
       "      <td id=\"T_66bd0_row4_col4\" class=\"data row4 col4\" >475</td>\n",
       "      <td id=\"T_66bd0_row4_col5\" class=\"data row4 col5\" >530</td>\n",
       "      <td id=\"T_66bd0_row4_col6\" class=\"data row4 col6\" >samantha morton</td>\n",
       "      <td id=\"T_66bd0_row4_col7\" class=\"data row4 col7\" >640</td>\n",
       "      <td id=\"T_66bd0_row4_col8\" class=\"data row4 col8\" >73058679</td>\n",
       "      <td id=\"T_66bd0_row4_col9\" class=\"data row4 col9\" >action adventure sci fi</td>\n",
       "      <td id=\"T_66bd0_row4_col10\" class=\"data row4 col10\" >daryl sabara</td>\n",
       "      <td id=\"T_66bd0_row4_col11\" class=\"data row4 col11\" >john carter</td>\n",
       "      <td id=\"T_66bd0_row4_col12\" class=\"data row4 col12\" >212204</td>\n",
       "      <td id=\"T_66bd0_row4_col13\" class=\"data row4 col13\" >1873</td>\n",
       "      <td id=\"T_66bd0_row4_col14\" class=\"data row4 col14\" >polly walker</td>\n",
       "      <td id=\"T_66bd0_row4_col15\" class=\"data row4 col15\" >1</td>\n",
       "      <td id=\"T_66bd0_row4_col16\" class=\"data row4 col16\" >alien american civil war male nipple mars princess</td>\n",
       "      <td id=\"T_66bd0_row4_col17\" class=\"data row4 col17\" >http www imdb com title tt0401729 ref fn tt tt 1</td>\n",
       "      <td id=\"T_66bd0_row4_col18\" class=\"data row4 col18\" >738</td>\n",
       "      <td id=\"T_66bd0_row4_col19\" class=\"data row4 col19\" >english</td>\n",
       "      <td id=\"T_66bd0_row4_col20\" class=\"data row4 col20\" >usa</td>\n",
       "      <td id=\"T_66bd0_row4_col21\" class=\"data row4 col21\" >pg 13</td>\n",
       "      <td id=\"T_66bd0_row4_col22\" class=\"data row4 col22\" >263700000</td>\n",
       "      <td id=\"T_66bd0_row4_col23\" class=\"data row4 col23\" >2012</td>\n",
       "      <td id=\"T_66bd0_row4_col24\" class=\"data row4 col24\" >632</td>\n",
       "      <td id=\"T_66bd0_row4_col25\" class=\"data row4 col25\" >6 6</td>\n",
       "      <td id=\"T_66bd0_row4_col26\" class=\"data row4 col26\" >2 35</td>\n",
       "      <td id=\"T_66bd0_row4_col27\" class=\"data row4 col27\" >24000</td>\n",
       "    </tr>\n",
       "  </tbody>\n",
       "</table>\n"
      ],
      "text/plain": [
       "<IPython.core.display.HTML object>"
      ]
     },
     "metadata": {},
     "output_type": "display_data"
    }
   ],
   "source": [
    "demo.display_joinable_table(1)"
   ]
  },
  {
   "cell_type": "markdown",
   "id": "92fea06e",
   "metadata": {
    "pycharm": {
     "name": "#%% md\n"
    }
   },
   "source": [
    "___\n",
    "\n",
    "# 3) Duplicate Detection using XASH\n",
    "\n",
    "___\n",
    "\n",
    "## Discovering duplicate tables and their relationship within the joinable tables\n",
    "___"
   ]
  },
  {
   "cell_type": "code",
   "execution_count": 18,
   "id": "9dcdb016",
   "metadata": {
    "pycharm": {
     "name": "#%%\n"
    },
    "scrolled": false
   },
   "outputs": [
    {
     "ename": "FileNotFoundError",
     "evalue": "[Errno 2] No such file or directory: 'template.html'",
     "output_type": "error",
     "traceback": [
      "\u001B[0;31m---------------------------------------------------------------------------\u001B[0m",
      "\u001B[0;31mFileNotFoundError\u001B[0m                         Traceback (most recent call last)",
      "Input \u001B[0;32mIn [18]\u001B[0m, in \u001B[0;36m<cell line: 1>\u001B[0;34m()\u001B[0m\n\u001B[0;32m----> 1\u001B[0m \u001B[43mdemo\u001B[49m\u001B[38;5;241;43m.\u001B[39;49m\u001B[43mduplicate_detection\u001B[49m\u001B[43m(\u001B[49m\u001B[43m)\u001B[49m\u001B[38;5;241m.\u001B[39mshow(\u001B[38;5;124m\"\u001B[39m\u001B[38;5;124mnb.html\u001B[39m\u001B[38;5;124m\"\u001B[39m)\n",
      "File \u001B[0;32m~/Developer/datalake_indexes/maco/demo/datalake_indexes_demo.py:369\u001B[0m, in \u001B[0;36mDatalakeIndexesDemo.duplicate_detection\u001B[0;34m(self)\u001B[0m\n\u001B[1;32m    366\u001B[0m \u001B[38;5;66;03m# Convert CSV table to html table\u001B[39;00m\n\u001B[1;32m    367\u001B[0m output \u001B[38;5;241m=\u001B[39m output \u001B[38;5;241m+\u001B[39m \u001B[38;5;28mself\u001B[39m\u001B[38;5;241m.\u001B[39m__input_dataset\u001B[38;5;241m.\u001B[39mhead()\u001B[38;5;241m.\u001B[39mto_html(table_id\u001B[38;5;241m=\u001B[39m\u001B[38;5;124m'\u001B[39m\u001B[38;5;124mt0\u001B[39m\u001B[38;5;124m'\u001B[39m, index\u001B[38;5;241m=\u001B[39m\u001B[38;5;28;01mFalse\u001B[39;00m)\n\u001B[0;32m--> 369\u001B[0m \u001B[38;5;28;01mwith\u001B[39;00m \u001B[38;5;28;43mopen\u001B[39;49m\u001B[43m(\u001B[49m\u001B[38;5;124;43m\"\u001B[39;49m\u001B[38;5;124;43mtemplate.html\u001B[39;49m\u001B[38;5;124;43m\"\u001B[39;49m\u001B[43m,\u001B[49m\u001B[43m \u001B[49m\u001B[38;5;124;43m'\u001B[39;49m\u001B[38;5;124;43mr\u001B[39;49m\u001B[38;5;124;43m'\u001B[39;49m\u001B[43m)\u001B[49m \u001B[38;5;28;01mas\u001B[39;00m file:\n\u001B[1;32m    370\u001B[0m     filedata \u001B[38;5;241m=\u001B[39m file\u001B[38;5;241m.\u001B[39mread()\n\u001B[1;32m    372\u001B[0m \u001B[38;5;66;03m# Replace table placeholder with actual tables html\u001B[39;00m\n",
      "\u001B[0;31mFileNotFoundError\u001B[0m: [Errno 2] No such file or directory: 'template.html'"
     ]
    }
   ],
   "source": [
    "demo.duplicate_detection().show(\"./maco/demo/nb.html\")"
   ]
  },
  {
   "cell_type": "markdown",
   "id": "7d12b716",
   "metadata": {
    "pycharm": {
     "name": "#%% md\n"
    }
   },
   "source": [
    "___\n",
    "\n",
    "## Removing duplicates within the top joinable tables\n",
    "\n",
    "___"
   ]
  },
  {
   "cell_type": "code",
   "execution_count": 8,
   "id": "a87512e9",
   "metadata": {
    "pycharm": {
     "name": "#%%\n"
    }
   },
   "outputs": [
    {
     "name": "stdout",
     "output_type": "stream",
     "text": [
      "Reduced the number of joinable tables from 20 to 17.\n"
     ]
    }
   ],
   "source": [
    "demo.remove_duplicates()"
   ]
  },
  {
   "cell_type": "markdown",
   "id": "1c658b7f",
   "metadata": {
    "pycharm": {
     "name": "#%% md\n"
    }
   },
   "source": [
    "___\n",
    "\n",
    "# 4) Correlation Calculation\n",
    "\n",
    "___\n",
    "\n",
    "## Obtaining the top-10 correlating features using the Order Index and COCOA\n",
    "\n",
    "___"
   ]
  },
  {
   "cell_type": "code",
   "execution_count": 9,
   "id": "78e32ffd",
   "metadata": {
    "pycharm": {
     "name": "#%%\n"
    }
   },
   "outputs": [
    {
     "data": {
      "application/vnd.jupyter.widget-view+json": {
       "model_id": "3e0d66bd024f4bfa982f672006841042",
       "version_major": 2,
       "version_minor": 0
      },
      "text/plain": [
       "  0%|          | 0/17 [00:00<?, ?it/s]"
      ]
     },
     "metadata": {},
     "output_type": "display_data"
    },
    {
     "name": "stdout",
     "output_type": "stream",
     "text": [
      "--------------------------------------------\n",
      "Runtime:\n",
      "--------------------------------------------\n",
      "Total runtime: 1.06s\n",
      "Preparation runtime: 0.91s\n",
      "Correlation calculation runtime: 0.15s\n",
      "\n",
      "--------------------------------------------\n",
      "Statistics:\n",
      "--------------------------------------------\n",
      "Evaluated features: 83\n",
      "Max. correlation coefficient: 0.3518\n"
     ]
    }
   ],
   "source": [
    "demo.correlation_calculation()"
   ]
  },
  {
   "cell_type": "markdown",
   "id": "3714f75e",
   "metadata": {
    "pycharm": {
     "name": "#%% md\n"
    }
   },
   "source": [
    "___\n",
    "\n",
    "## Inspecting the correlation coefficients for the retrieved features\n",
    "\n",
    "___"
   ]
  },
  {
   "cell_type": "code",
   "execution_count": 10,
   "id": "7ddc53b0",
   "metadata": {
    "pycharm": {
     "name": "#%%\n"
    }
   },
   "outputs": [
    {
     "data": {
      "image/png": "[encoded data removed]",
      "text/plain": [
       "<Figure size 576x216 with 1 Axes>"
      ]
     },
     "metadata": {
      "needs_background": "light"
     },
     "output_type": "display_data"
    }
   ],
   "source": [
    "demo.plot_correlation_coefficients()"
   ]
  },
  {
   "cell_type": "markdown",
   "id": "c415b433",
   "metadata": {
    "pycharm": {
     "name": "#%% md\n"
    }
   },
   "source": [
    "___\n",
    "\n",
    "## Materializing join for the top 3 correlating features\n",
    "\n",
    "___"
   ]
  },
  {
   "cell_type": "code",
   "execution_count": 11,
   "id": "c5139a0a",
   "metadata": {
    "pycharm": {
     "name": "#%%\n"
    }
   },
   "outputs": [
    {
     "data": {
      "text/html": [
       "<style type=\"text/css\">\n",
       "#T_1601e_row0_col0, #T_1601e_row0_col1, #T_1601e_row1_col0, #T_1601e_row1_col1, #T_1601e_row2_col0, #T_1601e_row2_col1, #T_1601e_row3_col0, #T_1601e_row3_col1, #T_1601e_row4_col0, #T_1601e_row4_col1 {\n",
       "  background-color: rgb(141, 229, 161);\n",
       "  color: #000;\n",
       "}\n",
       "#T_1601e_row0_col2, #T_1601e_row1_col2, #T_1601e_row2_col2, #T_1601e_row3_col2, #T_1601e_row4_col2 {\n",
       "  background-color: rgb(250, 180, 130);\n",
       "  color: #000;\n",
       "}\n",
       "#T_1601e_row0_col3, #T_1601e_row0_col4, #T_1601e_row0_col5, #T_1601e_row1_col3, #T_1601e_row1_col4, #T_1601e_row1_col5, #T_1601e_row2_col3, #T_1601e_row2_col4, #T_1601e_row2_col5, #T_1601e_row3_col3, #T_1601e_row3_col4, #T_1601e_row3_col5, #T_1601e_row4_col3, #T_1601e_row4_col4, #T_1601e_row4_col5 {\n",
       "  background-color: rgb(208, 188, 255);\n",
       "  color: #000;\n",
       "}\n",
       "</style>\n",
       "<table id=\"T_1601e\">\n",
       "  <thead>\n",
       "    <tr>\n",
       "      <th class=\"blank level0\" >&nbsp;</th>\n",
       "      <th id=\"T_1601e_level0_col0\" class=\"col_heading level0 col0\" >Movie Title</th>\n",
       "      <th id=\"T_1601e_level0_col1\" class=\"col_heading level0 col1\" >Director Name</th>\n",
       "      <th id=\"T_1601e_level0_col2\" class=\"col_heading level0 col2\" >IMDB Score</th>\n",
       "      <th id=\"T_1601e_level0_col3\" class=\"col_heading level0 col3\" >num_voted_users</th>\n",
       "      <th id=\"T_1601e_level0_col4\" class=\"col_heading level0 col4\" >duration</th>\n",
       "      <th id=\"T_1601e_level0_col5\" class=\"col_heading level0 col5\" >num_user_for_reviews</th>\n",
       "    </tr>\n",
       "  </thead>\n",
       "  <tbody>\n",
       "    <tr>\n",
       "      <th id=\"T_1601e_level0_row0\" class=\"row_heading level0 row0\" >0</th>\n",
       "      <td id=\"T_1601e_row0_col0\" class=\"data row0 col0\" >Unleashed </td>\n",
       "      <td id=\"T_1601e_row0_col1\" class=\"data row0 col1\" >Louis Leterrier</td>\n",
       "      <td id=\"T_1601e_row0_col2\" class=\"data row0 col2\" >7.0</td>\n",
       "      <td id=\"T_1601e_row0_col3\" class=\"data row0 col3\" >85198</td>\n",
       "      <td id=\"T_1601e_row0_col4\" class=\"data row0 col4\" >103</td>\n",
       "      <td id=\"T_1601e_row0_col5\" class=\"data row0 col5\" >303</td>\n",
       "    </tr>\n",
       "    <tr>\n",
       "      <th id=\"T_1601e_level0_row1\" class=\"row_heading level0 row1\" >1</th>\n",
       "      <td id=\"T_1601e_row1_col0\" class=\"data row1 col0\" >Vaalu </td>\n",
       "      <td id=\"T_1601e_row1_col1\" class=\"data row1 col1\" >Vijay Chandar</td>\n",
       "      <td id=\"T_1601e_row1_col2\" class=\"data row1 col2\" >5.1</td>\n",
       "      <td id=\"T_1601e_row1_col3\" class=\"data row1 col3\" >nan</td>\n",
       "      <td id=\"T_1601e_row1_col4\" class=\"data row1 col4\" >nan</td>\n",
       "      <td id=\"T_1601e_row1_col5\" class=\"data row1 col5\" >nan</td>\n",
       "    </tr>\n",
       "    <tr>\n",
       "      <th id=\"T_1601e_level0_row2\" class=\"row_heading level0 row2\" >2</th>\n",
       "      <td id=\"T_1601e_row2_col0\" class=\"data row2 col0\" >The Da Vinci Code </td>\n",
       "      <td id=\"T_1601e_row2_col1\" class=\"data row2 col1\" >Ron Howard</td>\n",
       "      <td id=\"T_1601e_row2_col2\" class=\"data row2 col2\" >6.6</td>\n",
       "      <td id=\"T_1601e_row2_col3\" class=\"data row2 col3\" >314253</td>\n",
       "      <td id=\"T_1601e_row2_col4\" class=\"data row2 col4\" >174</td>\n",
       "      <td id=\"T_1601e_row2_col5\" class=\"data row2 col5\" >1966</td>\n",
       "    </tr>\n",
       "    <tr>\n",
       "      <th id=\"T_1601e_level0_row3\" class=\"row_heading level0 row3\" >3</th>\n",
       "      <td id=\"T_1601e_row3_col0\" class=\"data row3 col0\" >Midnight in Paris </td>\n",
       "      <td id=\"T_1601e_row3_col1\" class=\"data row3 col1\" >Woody Allen</td>\n",
       "      <td id=\"T_1601e_row3_col2\" class=\"data row3 col2\" >7.7</td>\n",
       "      <td id=\"T_1601e_row3_col3\" class=\"data row3 col3\" >301149</td>\n",
       "      <td id=\"T_1601e_row3_col4\" class=\"data row3 col4\" >94</td>\n",
       "      <td id=\"T_1601e_row3_col5\" class=\"data row3 col5\" >509</td>\n",
       "    </tr>\n",
       "    <tr>\n",
       "      <th id=\"T_1601e_level0_row4\" class=\"row_heading level0 row4\" >4</th>\n",
       "      <td id=\"T_1601e_row4_col0\" class=\"data row4 col0\" >Why Did I Get Married Too? </td>\n",
       "      <td id=\"T_1601e_row4_col1\" class=\"data row4 col1\" >Tyler Perry</td>\n",
       "      <td id=\"T_1601e_row4_col2\" class=\"data row4 col2\" >4.4</td>\n",
       "      <td id=\"T_1601e_row4_col3\" class=\"data row4 col3\" >7664</td>\n",
       "      <td id=\"T_1601e_row4_col4\" class=\"data row4 col4\" >121</td>\n",
       "      <td id=\"T_1601e_row4_col5\" class=\"data row4 col5\" >68</td>\n",
       "    </tr>\n",
       "  </tbody>\n",
       "</table>\n"
      ],
      "text/plain": [
       "<IPython.core.display.HTML object>"
      ]
     },
     "metadata": {},
     "output_type": "display_data"
    }
   ],
   "source": [
    "demo.add_external_features([1, 2, 3])"
   ]
  },
  {
   "cell_type": "markdown",
   "id": "2f49b331",
   "metadata": {
    "pycharm": {
     "name": "#%% md\n"
    }
   },
   "source": [
    "___\n",
    "\n",
    "## Inspect differences between Spearman and Pearson correlation coefficients\n",
    "\n",
    "___"
   ]
  },
  {
   "cell_type": "code",
   "execution_count": 12,
   "id": "d8449336",
   "metadata": {
    "pycharm": {
     "name": "#%%\n"
    }
   },
   "outputs": [
    {
     "data": {
      "image/png": "[encoded data removed]",
      "text/plain": [
       "<Figure size 720x288 with 1 Axes>"
      ]
     },
     "metadata": {
      "needs_background": "light"
     },
     "output_type": "display_data"
    }
   ],
   "source": [
    "demo.plot_spearman_pearson()"
   ]
  },
  {
   "cell_type": "markdown",
   "id": "06fc9244",
   "metadata": {
    "pycharm": {
     "name": "#%% md\n"
    }
   },
   "source": [
    "___\n",
    "\n",
    "## Inspect correlation between input and top-correlating features\n",
    "\n",
    "___"
   ]
  },
  {
   "cell_type": "code",
   "execution_count": 13,
   "id": "4cee4e86",
   "metadata": {
    "pycharm": {
     "name": "#%%\n"
    }
   },
   "outputs": [
    {
     "data": {
      "image/png": "[encoded data removed]",
      "text/plain": [
       "<Figure size 1008x432 with 2 Axes>"
      ]
     },
     "metadata": {
      "needs_background": "light"
     },
     "output_type": "display_data"
    }
   ],
   "source": [
    "demo.plot_correlation_heatmap()"
   ]
  },
  {
   "cell_type": "markdown",
   "id": "efd6cd44",
   "metadata": {
    "pycharm": {
     "name": "#%% md\n"
    }
   },
   "source": [
    "___\n",
    "\n",
    "## Compare RMSE of the model trained on the input and enriched dataset\n",
    "\n",
    "___"
   ]
  },
  {
   "cell_type": "code",
   "execution_count": 14,
   "id": "44fa00ed",
   "metadata": {
    "pycharm": {
     "name": "#%%\n"
    }
   },
   "outputs": [
    {
     "data": {
      "image/png": "[encoded data removed]",
      "text/plain": [
       "<Figure size 360x288 with 1 Axes>"
      ]
     },
     "metadata": {
      "needs_background": "light"
     },
     "output_type": "display_data"
    }
   ],
   "source": [
    "demo.fit_and_evaluate_model()"
   ]
  }
 ],
 "metadata": {
  "kernelspec": {
   "display_name": "Python 3 (ipykernel)",
   "language": "python",
   "name": "python3"
  },
  "language_info": {
   "codemirror_mode": {
    "name": "ipython",
    "version": 3
   },
   "file_extension": ".py",
   "mimetype": "text/x-python",
   "name": "python",
   "nbconvert_exporter": "python",
   "pygments_lexer": "ipython3",
   "version": "3.9.12"
  }
 },
 "nbformat": 4,
 "nbformat_minor": 5
}